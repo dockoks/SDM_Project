{
 "cells": [
  {
   "cell_type": "code",
   "outputs": [],
   "source": [
    "import pandas as pd\n",
    "import numpy as np\n",
    "import random\n",
    "from datetime import timedelta, datetime"
   ],
   "metadata": {
    "collapsed": false,
    "ExecuteTime": {
     "end_time": "2024-04-10T15:12:26.612050Z",
     "start_time": "2024-04-10T15:12:26.608647Z"
    }
   },
   "id": "af3d3cd94b7a6136",
   "execution_count": 75
  },
  {
   "cell_type": "code",
   "outputs": [],
   "source": [
    "random.seed(42)"
   ],
   "metadata": {
    "collapsed": false,
    "ExecuteTime": {
     "end_time": "2024-04-10T15:12:28.348501Z",
     "start_time": "2024-04-10T15:12:28.324971Z"
    }
   },
   "id": "74ac05055906f1e3",
   "execution_count": 76
  },
  {
   "cell_type": "markdown",
   "source": [
    "# Values for data synthesis"
   ],
   "metadata": {
    "collapsed": false
   },
   "id": "43888c274ceea2ce"
  },
  {
   "cell_type": "code",
   "outputs": [],
   "source": [
    "cities = [\n",
    "    \"New York\", \"Los Angeles\", \"Chicago\", \"Houston\", \"Phoenix\",\n",
    "    \"Philadelphia\", \"San Antonio\", \"San Diego\", \"Dallas\", \"San Jose\",\n",
    "    \"Austin\", \"Jacksonville\", \"Fort Worth\", \"Columbus\", \"Charlotte\",\n",
    "    \"San Francisco\", \"Indianapolis\", \"Seattle\", \"Denver\", \"Washington\",\n",
    "    \"Boston\", \"El Paso\", \"Nashville\", \"Detroit\", \"Oklahoma City\",\n",
    "    \"Portland\", \"Las Vegas\", \"Memphis\", \"Louisville\", \"Baltimore\",\n",
    "    \"Milwaukee\", \"Albuquerque\", \"Tucson\", \"Fresno\", \"Mesa\",\n",
    "    \"Sacramento\", \"Atlanta\", \"Kansas City\", \"Colorado Springs\", \"Miami\",\n",
    "    \"Raleigh\", \"Omaha\", \"Long Beach\", \"Virginia Beach\", \"Oakland\",\n",
    "    \"Minneapolis\", \"Tulsa\", \"Arlington\", \"Tampa\", \"New Orleans\",\n",
    "    \"London\", \"Paris\", \"Tokyo\", \"Beijing\", \"Moscow\",\n",
    "    \"Sydney\", \"Dubai\", \"Mexico City\", \"Sao Paulo\", \"Mumbai\",\n",
    "    \"Cairo\", \"Istanbul\", \"Lagos\", \"Buenos Aires\", \"Seoul\",\n",
    "    \"Bangkok\", \"Kolkata\", \"Tehran\", \"Berlin\", \"Bogota\",\n",
    "    \"Lima\", \"Jakarta\", \"Riyadh\", \"Madrid\", \"Rome\"\n",
    "]"
   ],
   "metadata": {
    "collapsed": false,
    "ExecuteTime": {
     "end_time": "2024-04-10T15:44:32.883351Z",
     "start_time": "2024-04-10T15:44:32.874749Z"
    }
   },
   "id": "839a1ace862c2fe8",
   "execution_count": 113
  },
  {
   "cell_type": "code",
   "outputs": [],
   "source": [
    "keywords = [\n",
    "    \"artificial intelligence\", \"climate change\", \"sustainable development\",\n",
    "    \"quantum computing\", \"genetic engineering\", \"machine learning\", \"cybersecurity\",\n",
    "    \"public health\", \"renewable energy\", \"data analytics\", \"blockchain\", \"nanotechnology\",\n",
    "    \"neural networks\", \"ecosystem services\", \"cancer research\", \"autonomous vehicles\",\n",
    "    \"internet of things\", \"big data\", \"vaccine development\", \"bioinformatics\",\n",
    "    \"virtual reality\", \"augmented reality\", \"deep learning\", \"biodiversity\",\n",
    "    \"mental health\", \"smart cities\", \"robotics\", \"3D printing\", \"cloud computing\",\n",
    "    \"CRISPR\", \"agritech\", \"clean technology\", \"material science\", \"photovoltaics\",\n",
    "    \"drug discovery\", \"astrophysics\", \"oceanography\", \"glaciology\", \"sociology\",\n",
    "    \"economics\", \"political science\", \"urban planning\", \"microbiology\", \"quantum mechanics\",\n",
    "    \"biochemistry\", \"particle physics\", \"organic chemistry\", \"computational biology\",\n",
    "    \"environmental justice\", \"sustainable agriculture\", \"water scarcity\", \"air pollution\",\n",
    "    \"soil degradation\", \"renewable resources\", \"energy storage\", \"machine ethics\",\n",
    "    \"digital humanities\", \"biomedical engineering\", \"forensic science\", \"epidemiology\",\n",
    "    \"neuroscience\", \"cognitive science\", \"psychology\", \"anthropology\", \"linguistics\",\n",
    "    \"education technology\", \"space exploration\", \"conservation biology\", \"green chemistry\", \n",
    "    \"industrial automation\", \"wearable technology\", \"nutrition science\",\n",
    "    # mandatory keywords\n",
    "    \"data management\", \n",
    "    \"indexing\", \n",
    "    \"data modeling\", \n",
    "    \"big data\", \n",
    "    \"data processing\", \n",
    "    \"data storage\",\n",
    "    \"data querying\"\n",
    "]\n",
    "\n",
    "first_names = [\n",
    "    \"Alex\", \"Jamie\", \"Casey\", \"Morgan\", \"Taylor\", \"Jordan\", \"Riley\", \"Cameron\", \"Skyler\", \"Quinn\", \n",
    "    \"Pat\", \"Drew\", \"Sam\", \"Chris\", \"Robin\", \"Lee\", \"Dana\", \"Kelly\", \"Alexis\", \"Leslie\"\n",
    "]\n",
    "\n",
    "last_names = [\n",
    "    \"Smith\", \"Johnson\", \"Williams\", \"Brown\", \"Jones\", \"Garcia\", \"Miller\", \"Davis\", \"Rodriguez\", \n",
    "    \"Martinez\", \"Wilson\", \"Anderson\", \"Thomas\", \"Taylor\", \"Moore\", \"Jackson\", \"Martin\", \"Lee\", \"Perez\", \"Thompson\"\n",
    "]"
   ],
   "metadata": {
    "collapsed": false,
    "ExecuteTime": {
     "end_time": "2024-04-10T15:44:35.157585Z",
     "start_time": "2024-04-10T15:44:35.148713Z"
    }
   },
   "id": "b5d775edd8d11ef7",
   "execution_count": 114
  },
  {
   "cell_type": "markdown",
   "source": [
    "# Functions & Load data #"
   ],
   "metadata": {
    "collapsed": false
   },
   "id": "82039be23c16e328"
  },
  {
   "cell_type": "code",
   "outputs": [],
   "source": [
    "def read_custom_file(file_path, low_memory=False):\n",
    "    df = pd.read_csv(file_path, sep=';', header=None, low_memory=low_memory)\n",
    "    df.columns = df.iloc[0]\n",
    "    df = df.drop(df.index[0])\n",
    "    return df"
   ],
   "metadata": {
    "collapsed": false,
    "ExecuteTime": {
     "end_time": "2024-04-10T15:44:35.159797Z",
     "start_time": "2024-04-10T15:44:35.154825Z"
    }
   },
   "id": "c5efc9caff810432",
   "execution_count": 115
  },
  {
   "cell_type": "code",
   "outputs": [],
   "source": [
    "path = '/Users/danilakokin/Desktop/UPC/Semester2/SDM/SDM_Project/joined'\n",
    "\n",
    "proceeding_df = pd.read_csv(f'{path}/proceedings.csv', low_memory=False).sample(200)\n",
    "article_df = pd.read_csv(f'{path}/article.csv', low_memory=False).sample(200)\n",
    "book_df = pd.read_csv(f'{path}/book.csv', low_memory=False).sample(200)\n",
    "\n",
    "journal_df = read_custom_file(f'{path}/journal.csv')\n",
    "authors_df = read_custom_file(f'{path}/author.csv')"
   ],
   "metadata": {
    "collapsed": false,
    "ExecuteTime": {
     "end_time": "2024-04-10T15:45:16.184056Z",
     "start_time": "2024-04-10T15:44:35.159677Z"
    }
   },
   "id": "9f76061cbbadff3d",
   "execution_count": 116
  },
  {
   "cell_type": "code",
   "outputs": [],
   "source": [
    "def generate_city():\n",
    "    return np.random.choice(cities)\n",
    "    \n",
    "def generate_birth_date_vectorized(start='1945-01-01', end='1989-01-01', size=1):\n",
    "    # Convert start and end dates to timestamps\n",
    "    start_u = datetime.strptime(start, '%Y-%m-%d').timestamp()\n",
    "    end_u = datetime.strptime(end, '%Y-%m-%d').timestamp()\n",
    "    \n",
    "    # Generate random dates\n",
    "    random_dates_u = np.random.randint(start_u, end_u, size)\n",
    "    random_dates = [datetime.utcfromtimestamp(date).strftime('%Y-%m-%d') for date in random_dates_u]\n",
    "    \n",
    "    return random_dates if size > 1 else random_dates[0]\n",
    "\n",
    "def generate_proceeding_type():\n",
    "    return np.random.choice(['WORKSHOP', 'CONFERENCE'], p=[0.4, 0.6])\n",
    "\n",
    "def select_random_keywords(keywords=keywords, min_keywords=4, max_keywords=8):\n",
    "    num_to_select = random.randint(min_keywords, max_keywords)\n",
    "    selected_keywords = random.sample(keywords, num_to_select)\n",
    "    return selected_keywords"
   ],
   "metadata": {
    "collapsed": false,
    "ExecuteTime": {
     "end_time": "2024-04-10T15:45:16.188750Z",
     "start_time": "2024-04-10T15:45:16.186032Z"
    }
   },
   "id": "d2cf651295266ea6",
   "execution_count": 117
  },
  {
   "cell_type": "code",
   "outputs": [],
   "source": [
    "# Helpers\n",
    "def filter_rows_by_values(df, column_name, values_set):\n",
    "    return df[df[column_name].isin(values_set)]\n",
    "\n",
    "def make_mapping(df, key_column, value_column):\n",
    "    return pd.Series(df[key_column], index=df[value_column]).to_dict()\n",
    "\n",
    "def create_df_from_values_with_keys(values, value_col_name, key_col_name, key_pattern='ID-{:06d}'):\n",
    "    df = pd.DataFrame({\n",
    "        key_col_name: [key_pattern.format(i+1) for i in range(len(values))],\n",
    "        value_col_name: values\n",
    "    })\n",
    "    return df\n",
    "\n",
    "def collect_values_to_set(df, column_name):\n",
    "    return set(df[column_name].explode().dropna().unique())\n"
   ],
   "metadata": {
    "collapsed": false,
    "ExecuteTime": {
     "end_time": "2024-04-10T15:45:16.206086Z",
     "start_time": "2024-04-10T15:45:16.189466Z"
    }
   },
   "id": "f17a7aed877917e9",
   "execution_count": 118
  },
  {
   "cell_type": "code",
   "outputs": [],
   "source": [
    "def add_citations_column(df):\n",
    "    sorted_df = df.sort_values(by='year').copy()\n",
    "    citations_dict = {index: [] for index in sorted_df.index}\n",
    "    \n",
    "    # Pre-compute the valid citation ids for each year to avoid doing it in the loop\n",
    "    valid_citations_per_year = {year: sorted_df[sorted_df['year'] < year]['paper_id'].tolist() for year in sorted_df['year'].unique()}\n",
    "    \n",
    "    for index, row in sorted_df.iterrows():\n",
    "        valid_citations = valid_citations_per_year[row['year']]\n",
    "        \n",
    "        if valid_citations:\n",
    "            num_ids_to_select = min(np.random.randint(3, 7), len(valid_citations))\n",
    "            selected_ids = np.random.choice(valid_citations, size=num_ids_to_select, replace=False)\n",
    "            citations_dict[index] = selected_ids.tolist()\n",
    "    \n",
    "    sorted_df['citation_id'] = pd.Series(citations_dict).apply(lambda ids: ids if isinstance(ids, list) else pd.NA)\n",
    "    return sorted_df[('citation_id')]\n",
    "\n",
    "\n",
    "def choose_reviewers(authors, reviewers_set):\n",
    "    authors_set = set(authors)\n",
    "    all_reviewers = list(reviewers_set - authors_set)\n",
    "    num_reviewers = np.random.choice([1, 2, 3, 4, 5], p=[0.05, 0.15, 0.6, 0.15, 0.05])\n",
    "    \n",
    "    if len(all_reviewers) >= num_reviewers:\n",
    "        return np.random.choice(all_reviewers, size=num_reviewers, replace=False).tolist()\n",
    "    \n",
    "    chosen_reviewers = all_reviewers\n",
    "    remaining_needed = num_reviewers - len(chosen_reviewers)\n",
    "    \n",
    "    if remaining_needed > 0:\n",
    "        fill_ins = np.random.choice(list(reviewers_set - authors_set), size=remaining_needed, replace=False).tolist()\n",
    "        chosen_reviewers.extend(fill_ins)\n",
    "    \n",
    "    return chosen_reviewers\n",
    "\n",
    "def add_columns_from_authors(df, authors_col_name, reviewers_set):\n",
    "    df['core_author'] = df[authors_col_name].str[0]\n",
    "    df['co_author'] = df[authors_col_name].apply(lambda authors: authors[1:] if len(authors) > 1 else pd.NA)\n",
    "    \n",
    "    # Assuming 'authors' are lists, we can avoid an apply by directly using a list comprehension\n",
    "    df['reviewer'] = [choose_reviewers(authors, reviewers_set) for authors in df[authors_col_name]]\n",
    "    \n",
    "    return df\n"
   ],
   "metadata": {
    "collapsed": false,
    "ExecuteTime": {
     "end_time": "2024-04-10T15:45:16.207281Z",
     "start_time": "2024-04-10T15:45:16.200837Z"
    }
   },
   "id": "43c212bc45d3ace1",
   "execution_count": 119
  },
  {
   "cell_type": "code",
   "outputs": [],
   "source": [
    "def preprocess_authors(df):\n",
    "    birth_dates = generate_birth_date_vectorized(size=len(df))\n",
    "    \n",
    "    df = df.dropna(subset=[':ID', 'author:string']).drop_duplicates(subset=[':ID'], keep='first')\n",
    "    \n",
    "    df['id'] = df[':ID'].astype(str)\n",
    "    df['full_name'] = df['author:string']\n",
    "    df['birth_date'] = birth_dates\n",
    "    \n",
    "    return df[['id', 'full_name', 'birth_date']]\n",
    "\n",
    "def preprocess_journals(df):\n",
    "    df = df.loc[:, [':ID', 'journal:string']].drop_duplicates(subset=[':ID'], keep='first').dropna()\n",
    "    df.rename(columns={':ID': 'id', 'journal:string': 'name'}, inplace=True)\n",
    "    \n",
    "    return df\n",
    "\n",
    "def preprocess_books(df):\n",
    "    filtered_df = df[(df['author:string[]'].str.len() > 2) & (df['title:string'].str.len() > 2)]\n",
    "    \n",
    "    return (\n",
    "        filtered_df.assign(\n",
    "            abstract='Abstract',\n",
    "            paper_id='PPR-' + filtered_df['book:ID'].astype(str),\n",
    "            authors=filtered_df['author:string[]'].apply(lambda x: x.split('|') if pd.notnull(x) else pd.NA),\n",
    "            title=filtered_df['title:string'],\n",
    "            year=filtered_df['year:int']\n",
    "        )\n",
    "        .loc[:, ['paper_id', 'authors', 'title', 'abstract', 'year']]\n",
    "        .dropna(subset=['authors', 'year'])\n",
    "    )\n",
    "\n",
    "def preprocess_proceedings(df):\n",
    "    # Fill missing values\n",
    "    df['editor:string[]'] = df['editor:string[]'].fillna('')\n",
    "    df['publisher:string[]'] = df['publisher:string[]'].fillna('')\n",
    "    \n",
    "    # Filter rows based on content length criteria\n",
    "    filtered_df = df[(df['editor:string[]'].str.len() > 2) & (df['publisher:string[]'].str.len() > 2)].copy()\n",
    "    \n",
    "    # Assuming 'create_df_from_values_with_keys' returns a DataFrame with unique values and an ID column\n",
    "    unique_proceeding_df = create_df_from_values_with_keys(filtered_df['publisher:string[]'].unique(), 'proceeding_name', 'proceeding_id', key_pattern='PR-{:06d}')\n",
    "    proceeding_name_to_id_map = dict(zip(unique_proceeding_df['proceeding_name'], unique_proceeding_df['proceeding_id']))\n",
    "    \n",
    "    # Map 'publisher:string[]' to 'proceeding_id'\n",
    "    filtered_df.loc[:, 'proceeding_id'] = filtered_df['publisher:string[]'].map(proceeding_name_to_id_map)\n",
    "    \n",
    "    # Extract the first editor as chairman\n",
    "    filtered_df.loc[:, 'chairman'] = filtered_df['editor:string[]'].apply(lambda x: x.split('|')[0] if x else pd.NA)\n",
    "    \n",
    "    unique_chairman_df = create_df_from_values_with_keys(filtered_df['chairman'].unique(), 'person_name', 'person_id', key_pattern='CH-{:06d}')\n",
    "    chairman_name_to_id_map = dict(zip(unique_chairman_df['person_name'], unique_chairman_df['person_id']))\n",
    "    \n",
    "    # Map 'chairman' to 'person_id'\n",
    "    filtered_df.loc[:, 'chairman'] = filtered_df['chairman'].map(chairman_name_to_id_map)\n",
    "    \n",
    "    # Additional transformations\n",
    "    filtered_df.loc[:, 'edition_id'] = filtered_df['proceeding_id'].astype(str) + '-' + filtered_df['volume:string'].astype(str)\n",
    "    \n",
    "    filtered_df = filtered_df.assign(\n",
    "        name=filtered_df['publisher:string[]'],\n",
    "        edition_value=filtered_df['volume:string'],\n",
    "        edition_date=filtered_df['mdate:date'],\n",
    "        edition_city=[generate_city() for _ in range(len(filtered_df))]\n",
    "    ).dropna(subset=['edition_value']).drop_duplicates(subset=['edition_id'])\n",
    "\n",
    "    # Select and rename columns as necessary\n",
    "    final_df = filtered_df.loc[:, ['proceeding_id', 'chairman', 'name', 'edition_date', 'edition_id', 'edition_city']]\n",
    "    \n",
    "    return final_df, unique_proceeding_df, unique_chairman_df\n",
    "\n",
    "def preprocess_articles(df):\n",
    "    filtered_df = df[(df['author:string[]'].str.len() > 2) & (df['title:string'].str.len() > 2)]\n",
    "    \n",
    "    return (\n",
    "        filtered_df.assign(\n",
    "            paper_id=filtered_df['article:ID'].astype(str),\n",
    "            authors=filtered_df['author:string[]'].apply(lambda x: x.split('|') if pd.notnull(x) else pd.NA),\n",
    "            journal=filtered_df['journal:string'],\n",
    "            date=filtered_df['mdate:date'],\n",
    "            title=filtered_df['title:string'],\n",
    "            volume=filtered_df['volume:string'],\n",
    "            year=filtered_df['year:int'].apply(lambda x: int(x) if pd.notnull(x) else pd.NA)\n",
    "        )\n",
    "        .dropna(subset=['authors', 'journal', 'volume'])\n",
    "        .loc[:, ['paper_id', 'authors', 'journal', 'date', 'title', 'volume', 'year']]\n",
    "    )\n"
   ],
   "metadata": {
    "collapsed": false,
    "ExecuteTime": {
     "end_time": "2024-04-10T15:45:16.222155Z",
     "start_time": "2024-04-10T15:45:16.212296Z"
    }
   },
   "id": "9a58ca3d26164a71",
   "execution_count": 120
  },
  {
   "cell_type": "markdown",
   "source": [
    "# Cleaning and filling #"
   ],
   "metadata": {
    "collapsed": false
   },
   "id": "f6699ce64783b0fe"
  },
  {
   "cell_type": "code",
   "outputs": [
    {
     "name": "stderr",
     "output_type": "stream",
     "text": [
      "/var/folders/05/g_42ptlx3vqgr85jtt5kpthw0000gn/T/ipykernel_51662/3127877119.py:11: DeprecationWarning: datetime.datetime.utcfromtimestamp() is deprecated and scheduled for removal in a future version. Use timezone-aware objects to represent datetimes in UTC: datetime.datetime.fromtimestamp(timestamp, datetime.UTC).\n",
      "  random_dates = [datetime.utcfromtimestamp(date).strftime('%Y-%m-%d') for date in random_dates_u]\n"
     ]
    }
   ],
   "source": [
    "authors_prep_df = preprocess_authors(authors_df)\n",
    "journals_prep_df = preprocess_journals(journal_df)"
   ],
   "metadata": {
    "collapsed": false,
    "ExecuteTime": {
     "end_time": "2024-04-10T15:45:26.648393Z",
     "start_time": "2024-04-10T15:45:16.215999Z"
    }
   },
   "id": "4478b20b6a59dff0",
   "execution_count": 121
  },
  {
   "cell_type": "code",
   "outputs": [],
   "source": [
    "author_to_id_map = dict(zip(authors_prep_df['full_name'], authors_prep_df['id']))\n",
    "journal_to_id_map = dict(zip(journals_prep_df['name'], journals_prep_df['id']))"
   ],
   "metadata": {
    "collapsed": false,
    "ExecuteTime": {
     "end_time": "2024-04-10T15:45:28.195635Z",
     "start_time": "2024-04-10T15:45:28.177458Z"
    }
   },
   "id": "447aeecf46bf3464",
   "execution_count": 122
  },
  {
   "cell_type": "code",
   "outputs": [],
   "source": [
    "papers_from_proceeding_df = preprocess_books(book_df)\n",
    "papers_from_journal_df = preprocess_articles(article_df)\n",
    "prep_proceedings_df, proceeding_nodes_df, chairman_nodes_df = preprocess_proceedings(proceeding_df)"
   ],
   "metadata": {
    "collapsed": false,
    "ExecuteTime": {
     "end_time": "2024-04-10T15:45:28.212212Z",
     "start_time": "2024-04-10T15:45:28.184312Z"
    }
   },
   "id": "dc02ed0c97e723cc",
   "execution_count": 123
  },
  {
   "cell_type": "code",
   "outputs": [],
   "source": [
    "papers_from_proceeding_df['authors'] = papers_from_proceeding_df['authors'].apply(lambda x: [author_to_id_map.get(a) for a in x] if x is not pd.NA else pd.NA)\n",
    "reviewers_set = set(papers_from_proceeding_df['authors'].dropna().explode().unique())\n",
    "papers_from_proceeding_df = add_columns_from_authors(papers_from_proceeding_df, 'authors', reviewers_set)\n",
    "papers_from_proceeding_df['citation_id'] = add_citations_column(papers_from_proceeding_df)\n",
    "papers_from_proceeding_df['keywords'] = [select_random_keywords() for _ in range(len(papers_from_proceeding_df))]\n",
    "\n",
    "# Prepare the final DataFrame for proceedings\n",
    "proceeding_prep_df = papers_from_proceeding_df[['paper_id', 'title', 'abstract', 'core_author', 'co_author', 'citation_id', 'keywords']]"
   ],
   "metadata": {
    "collapsed": false,
    "ExecuteTime": {
     "end_time": "2024-04-10T15:45:28.242948Z",
     "start_time": "2024-04-10T15:45:28.220566Z"
    }
   },
   "id": "4d29f9ff8c49815c",
   "execution_count": 124
  },
  {
   "cell_type": "code",
   "outputs": [],
   "source": [
    "papers_from_proceeding_authors_set = collect_values_to_set(papers_from_proceeding_df, 'authors').intersection(set(authors_prep_df['full_name']))\n",
    "papers_from_journal_authors_set = collect_values_to_set(papers_from_journal_df, 'authors').intersection(set(authors_prep_df['full_name']))\n",
    "all_authors = papers_from_proceeding_authors_set.union(papers_from_journal_authors_set)\n",
    "\n",
    "papers_from_proceeding_df = add_columns_from_authors(papers_from_proceeding_df, 'authors', all_authors).drop('authors', axis=1)\n",
    "papers_from_journal_df = add_columns_from_authors(papers_from_journal_df, 'authors', all_authors).drop('authors', axis=1)\n",
    "\n",
    "# limit authors df by all_authors\n",
    "author_nodes_df = authors_prep_df[authors_prep_df['full_name'].isin(all_authors)]"
   ],
   "metadata": {
    "collapsed": false,
    "ExecuteTime": {
     "end_time": "2024-04-10T15:45:29.997711Z",
     "start_time": "2024-04-10T15:45:29.030980Z"
    }
   },
   "id": "9863a46e8c238825",
   "execution_count": 125
  },
  {
   "cell_type": "code",
   "outputs": [],
   "source": [
    "def assign_event_type(df, id_column):\n",
    "    unique_ids = df[id_column].unique()\n",
    "    event_types = np.random.choice(['workshop', 'conference'], size=len(unique_ids))\n",
    "    id_to_event_type = dict(zip(unique_ids, event_types))\n",
    "    return df[id_column].map(id_to_event_type)\n",
    "\n",
    "values = papers_from_proceeding_df['paper_id'].unique().tolist()\n",
    "prep_proceedings_df['paper_id'] = prep_proceedings_df.apply(lambda _: list(np.random.choice(values, size=np.random.randint(2, 7), replace=False)), axis=1)\n",
    "prep_proceedings_df['proceeding_type'] = assign_event_type(prep_proceedings_df, 'proceeding_id')"
   ],
   "metadata": {
    "collapsed": false,
    "ExecuteTime": {
     "end_time": "2024-04-10T15:45:30.008231Z",
     "start_time": "2024-04-10T15:45:29.999464Z"
    }
   },
   "id": "b87da9cb0097be9e",
   "execution_count": 126
  },
  {
   "cell_type": "code",
   "outputs": [],
   "source": [
    "papers_from_journal_df['core_author'] = papers_from_journal_df['core_author'].apply(lambda x: author_to_id_map[x])\n",
    "papers_from_journal_df['co_author'] = papers_from_journal_df['co_author'].apply(lambda x: [author_to_id_map.get(a) for a in x] if x is not pd.NA else pd.NA)\n",
    "papers_from_journal_df['reviewer'] = papers_from_journal_df['reviewer'].apply(lambda x: [author_to_id_map.get(a) for a in x] if x is not pd.NA else pd.NA)\n",
    "papers_from_journal_df['journal_id'] = papers_from_journal_df['journal'].apply(lambda x: journal_to_id_map[x])\n",
    "papers_from_journal_df['volume_id'] = papers_from_journal_df['journal_id'] + '-' + papers_from_journal_df['volume'] + '-' + papers_from_journal_df['year'].astype(str)\n",
    "papers_from_journal_df['keywords'] = [select_random_keywords() for _ in range(len(papers_from_journal_df))]\n",
    "papers_from_journal_df['citation_id'] = add_citations_column(papers_from_journal_df)\n",
    "papers_from_journal_df['abstract'] = \"Abstract text\""
   ],
   "metadata": {
    "collapsed": false,
    "ExecuteTime": {
     "end_time": "2024-04-10T15:45:30.033337Z",
     "start_time": "2024-04-10T15:45:30.012556Z"
    }
   },
   "id": "d47a59d72b851c0b",
   "execution_count": 127
  },
  {
   "cell_type": "code",
   "outputs": [],
   "source": [
    "journals_prep_df = journals_prep_df[journals_prep_df['id'].isin(papers_from_journal_df['journal_id'])]"
   ],
   "metadata": {
    "collapsed": false,
    "ExecuteTime": {
     "end_time": "2024-04-10T15:45:30.034632Z",
     "start_time": "2024-04-10T15:45:30.029943Z"
    }
   },
   "id": "d500e6968165e71d",
   "execution_count": 128
  },
  {
   "cell_type": "code",
   "outputs": [],
   "source": [
    "def generate_editor(df, id_format):\n",
    "    editor_names = [f\"{np.random.choice(first_names)} {np.random.choice(last_names)}\" for _ in range(len(df))]\n",
    "    editor_ids = [id_format.format(i) for i in range(1, len(df) + 1)]\n",
    "    \n",
    "    editors_df = pd.DataFrame({'editor_id': editor_ids, 'editor_name': editor_names})\n",
    "    \n",
    "    return editor_ids, editors_df\n",
    "\n",
    "journals_prep_df['editor_id'], editor_nodes_df = generate_editor(journals_prep_df, 'ED_{:06d}')"
   ],
   "metadata": {
    "collapsed": false,
    "ExecuteTime": {
     "end_time": "2024-04-10T15:45:30.051237Z",
     "start_time": "2024-04-10T15:45:30.037320Z"
    }
   },
   "id": "33da420abdfd509f",
   "execution_count": 129
  },
  {
   "cell_type": "markdown",
   "source": [
    "# Neo4j import folder path"
   ],
   "metadata": {
    "collapsed": false
   },
   "id": "b84ed8473e1be0b8"
  },
  {
   "cell_type": "code",
   "outputs": [],
   "source": [
    "neo4j_import_folder_path = '/Users/danilakokin/Library/Application Support/Neo4j Desktop/Application/relate-data/dbmss/dbms-d3231510-48ce-4369-b724-f487562fd7a8/import'"
   ],
   "metadata": {
    "collapsed": false,
    "ExecuteTime": {
     "end_time": "2024-04-10T15:45:30.052178Z",
     "start_time": "2024-04-10T15:45:30.039549Z"
    }
   },
   "id": "b26b28d2e0c7bf73",
   "execution_count": 130
  },
  {
   "cell_type": "markdown",
   "source": [
    "# Slice nodes #"
   ],
   "metadata": {
    "collapsed": false
   },
   "id": "c224e16f050283cb"
  },
  {
   "cell_type": "code",
   "outputs": [],
   "source": [
    "papers_from_journal_nodes_df = papers_from_journal_df[['paper_id', 'title', 'keywords', 'abstract']].drop_duplicates(['paper_id', 'title', 'abstract'])\n",
    "papers_from_proceeding_nodes_df = papers_from_proceeding_df[['paper_id', 'title', 'keywords', 'abstract']].drop_duplicates(['paper_id', 'title', 'abstract'])\n",
    "\n",
    "journal_nodes_df = journals_prep_df[['id', 'name']].drop_duplicates(['id', 'name'])\n",
    "proceeding_nodes_df = prep_proceedings_df[['proceeding_id', 'name']].drop_duplicates(['proceeding_id', 'name'])\n",
    "\n",
    "volume_nodes_df = papers_from_journal_df[['volume_id', 'year']].drop_duplicates(['volume_id'])\n",
    "edition_nodes_df = prep_proceedings_df[['edition_id', 'edition_city', 'edition_date']].drop_duplicates(['edition_id', 'edition_date'])"
   ],
   "metadata": {
    "collapsed": false,
    "ExecuteTime": {
     "end_time": "2024-04-10T15:45:30.053053Z",
     "start_time": "2024-04-10T15:45:30.043520Z"
    }
   },
   "id": "55940a28b4d4495a",
   "execution_count": 131
  },
  {
   "cell_type": "markdown",
   "source": [
    "# Save nodes"
   ],
   "metadata": {
    "collapsed": false
   },
   "id": "6e07199a393487c6"
  },
  {
   "cell_type": "code",
   "outputs": [],
   "source": [
    "author_nodes_df.to_csv(f'{neo4j_import_folder_path}/author_nodes.csv', index=False)\n",
    "editor_nodes_df.to_csv(f'{neo4j_import_folder_path}/editor_nodes.csv', index=False)\n",
    "chairman_nodes_df.to_csv(f'{neo4j_import_folder_path}/chairman_nodes.csv', index=False)"
   ],
   "metadata": {
    "collapsed": false,
    "ExecuteTime": {
     "end_time": "2024-04-10T15:45:30.079207Z",
     "start_time": "2024-04-10T15:45:30.049910Z"
    }
   },
   "id": "13c962199e801323",
   "execution_count": 132
  },
  {
   "cell_type": "code",
   "outputs": [],
   "source": [
    "papers_from_journal_nodes_df.to_csv(f'{neo4j_import_folder_path}/papers_from_journal_nodes.csv', index=False)\n",
    "papers_from_proceeding_nodes_df.to_csv(f'{neo4j_import_folder_path}/papers_from_proceeding_nodes.csv', index=False)"
   ],
   "metadata": {
    "collapsed": false,
    "ExecuteTime": {
     "end_time": "2024-04-10T15:45:30.080175Z",
     "start_time": "2024-04-10T15:45:30.057830Z"
    }
   },
   "id": "f80dd38624b63229",
   "execution_count": 133
  },
  {
   "cell_type": "code",
   "outputs": [],
   "source": [
    "journal_nodes_df.to_csv(f'{neo4j_import_folder_path}/journal_nodes.csv', index=False)\n",
    "proceeding_nodes_df.to_csv(f'{neo4j_import_folder_path}/proceeding_nodes.csv', index=False)"
   ],
   "metadata": {
    "collapsed": false,
    "ExecuteTime": {
     "end_time": "2024-04-10T15:45:30.081034Z",
     "start_time": "2024-04-10T15:45:30.063729Z"
    }
   },
   "id": "a0afb157e2b76776",
   "execution_count": 134
  },
  {
   "cell_type": "code",
   "outputs": [],
   "source": [
    "volume_nodes_df.to_csv(f'{neo4j_import_folder_path}/volume_nodes.csv', index=False)\n",
    "edition_nodes_df.to_csv(f'{neo4j_import_folder_path}/edition_nodes.csv', index=False)"
   ],
   "metadata": {
    "collapsed": false,
    "ExecuteTime": {
     "end_time": "2024-04-10T15:45:30.081890Z",
     "start_time": "2024-04-10T15:45:30.068246Z"
    }
   },
   "id": "1a25fac2c5262840",
   "execution_count": 135
  },
  {
   "cell_type": "markdown",
   "source": [
    "# Slice relations #"
   ],
   "metadata": {
    "collapsed": false
   },
   "id": "d2cfbb4bc437ca17"
  },
  {
   "cell_type": "code",
   "outputs": [],
   "source": [
    "paper_CITES_paper_journal_df = papers_from_journal_df[['paper_id', 'citation_id']].explode('citation_id').dropna()\n",
    "paper_CITES_paper_proceeding_df = papers_from_proceeding_df[['paper_id', 'citation_id']].explode('citation_id').dropna()\n",
    "\n",
    "paper_PUBLISHED_IN_WORKSHOP_edition_proceeding_df = prep_proceedings_df[prep_proceedings_df['proceeding_type'] == 'workshop'][['paper_id', 'edition_id']].explode('paper_id').drop_duplicates(['paper_id', 'edition_id'])\n",
    "paper_PUBLISHED_IN_CONFERENCE_edition_proceeding_df = prep_proceedings_df[prep_proceedings_df['proceeding_type'] == 'conference'][['paper_id', 'edition_id']].explode('paper_id').drop_duplicates(['paper_id', 'edition_id'])\n",
    "\n",
    "paper_PUBLISHED_IN_VOLUME_journal_df = papers_from_journal_df[['paper_id', 'volume_id']].drop_duplicates(['paper_id', 'volume_id'])\n",
    "\n",
    "author_IS_CORE_AUTHOR_paper_journal_df = papers_from_journal_df[['paper_id', 'core_author']]\n",
    "author_IS_CORE_AUTHOR_paper_proceeding_df = papers_from_proceeding_df[['paper_id', 'core_author']]\n",
    "\n",
    "author_IS_CO_AUTHOR_paper_journal_df = papers_from_journal_df[['paper_id', 'co_author']].explode('co_author').dropna()\n",
    "author_IS_CO_AUTHOR_paper_proceeding_df = papers_from_proceeding_df[['paper_id', 'co_author']].explode('co_author').dropna()\n",
    "\n",
    "author_REVIEWS_paper_journal_df = papers_from_journal_df[['paper_id', 'reviewer']].explode('reviewer')\n",
    "author_REVIEWS_paper_proceeding_df = papers_from_proceeding_df[['paper_id', 'reviewer']].explode('reviewer')\n",
    "\n",
    "proceeding_CONTAINS_WORKSHOP_edition_df = prep_proceedings_df[prep_proceedings_df['proceeding_type'] == 'workshop'][['proceeding_id', 'edition_id']].drop_duplicates(['proceeding_id', 'edition_id'])\n",
    "proceeding_CONTAINS_CONFERENCE_edition_df = prep_proceedings_df[prep_proceedings_df['proceeding_type'] == 'conference'][['proceeding_id', 'edition_id']].drop_duplicates(['proceeding_id', 'edition_id'])\n",
    "journal_CONTAINS_VOLUME_volume_df = papers_from_journal_df[['journal_id', 'volume_id']].drop_duplicates(['journal_id', 'volume_id'])\n",
    "\n",
    "journal_HAS_EDITOR_person_df = journals_prep_df[['id', 'editor_id']].drop_duplicates(['id', 'editor_id'])\n",
    "proceeding_HAS_WORKSHOP_CHAIRMAN_person_df = prep_proceedings_df[prep_proceedings_df['proceeding_type'] == 'workshop'][['proceeding_id', 'chairman']].drop_duplicates(['proceeding_id', 'chairman'])\n",
    "proceeding_HAS_CONFERENCE_CHAIRMAN_person_df = prep_proceedings_df[prep_proceedings_df['proceeding_type'] == 'conference'][['proceeding_id', 'chairman']].drop_duplicates(['proceeding_id', 'chairman'])"
   ],
   "metadata": {
    "collapsed": false,
    "ExecuteTime": {
     "end_time": "2024-04-10T15:45:30.123365Z",
     "start_time": "2024-04-10T15:45:30.078001Z"
    }
   },
   "id": "9a4fdb3afce28f91",
   "execution_count": 136
  },
  {
   "cell_type": "markdown",
   "source": [
    "# Save relations"
   ],
   "metadata": {
    "collapsed": false
   },
   "id": "3122395983b8f5a5"
  },
  {
   "cell_type": "code",
   "outputs": [],
   "source": [
    "paper_CITES_paper_journal_df.to_csv(f'{neo4j_import_folder_path}/paper_CITES_paper_journal.csv', index=False)\n",
    "paper_CITES_paper_proceeding_df.to_csv(f'{neo4j_import_folder_path}/paper_CITES_paper_proceeding.csv', index=False)\n",
    "paper_PUBLISHED_IN_WORKSHOP_edition_proceeding_df.to_csv(f'{neo4j_import_folder_path}/paper_PUBLISHED_IN_WORKSHOP_edition_proceeding.csv', index=False)\n",
    "paper_PUBLISHED_IN_CONFERENCE_edition_proceeding_df.to_csv(f'{neo4j_import_folder_path}/paper_PUBLISHED_IN_CONFERENCE_edition_proceeding.csv', index=False)\n",
    "paper_PUBLISHED_IN_VOLUME_journal_df.to_csv(f'{neo4j_import_folder_path}/paper_PUBLISHED_IN_VOLUME_journal.csv', index=False)\n",
    "author_IS_CORE_AUTHOR_paper_journal_df.to_csv(f'{neo4j_import_folder_path}/author_IS_CORE_AUTHOR_paper_journal.csv', index=False)\n",
    "author_IS_CORE_AUTHOR_paper_proceeding_df.to_csv(f'{neo4j_import_folder_path}/author_IS_CORE_AUTHOR_paper_proceeding.csv', index=False)\n",
    "author_IS_CO_AUTHOR_paper_journal_df.to_csv(f'{neo4j_import_folder_path}/author_IS_CO_AUTHOR_paper_journal.csv', index=False)\n",
    "author_IS_CO_AUTHOR_paper_proceeding_df.to_csv(f'{neo4j_import_folder_path}/author_IS_CO_AUTHOR_paper_proceeding.csv', index=False)\n",
    "author_REVIEWS_paper_journal_df.to_csv(f'{neo4j_import_folder_path}/author_REVIEWS_paper_journal.csv', index=False)\n",
    "author_REVIEWS_paper_proceeding_df.to_csv(f'{neo4j_import_folder_path}/author_REVIEWS_paper_proceeding.csv', index=False)\n",
    "proceeding_CONTAINS_WORKSHOP_edition_df.to_csv(f'{neo4j_import_folder_path}/proceeding_CONTAINS_WORKSHOP_edition.csv', index=False)\n",
    "proceeding_CONTAINS_CONFERENCE_edition_df.to_csv(f'{neo4j_import_folder_path}/proceeding_CONTAINS_CONFERENCE_edition.csv', index=False)\n",
    "journal_CONTAINS_VOLUME_volume_df.to_csv(f'{neo4j_import_folder_path}/journal_CONTAINS_EDITION_edition.csv', index=False)\n",
    "journal_HAS_EDITOR_person_df.to_csv(f'{neo4j_import_folder_path}/journal_HAS_EDITOR_person.csv', index=False)\n",
    "proceeding_HAS_WORKSHOP_CHAIRMAN_person_df.to_csv(f'{neo4j_import_folder_path}/proceeding_HAS_WORKSHOP_CHAIRMAN_person.csv', index=False)\n",
    "proceeding_HAS_CONFERENCE_CHAIRMAN_person_df.to_csv(f'{neo4j_import_folder_path}/proceeding_HAS_CONFERENCE_CHAIRMAN_person.csv', index=False)"
   ],
   "metadata": {
    "collapsed": false,
    "ExecuteTime": {
     "end_time": "2024-04-10T15:45:30.124339Z",
     "start_time": "2024-04-10T15:45:30.095026Z"
    }
   },
   "id": "9ca44984c48c1d60",
   "execution_count": 137
  },
  {
   "cell_type": "markdown",
   "source": [
    "# Evolve graph"
   ],
   "metadata": {
    "collapsed": false
   },
   "id": "9138fece267ab7b5"
  },
  {
   "cell_type": "code",
   "outputs": [],
   "source": [
    "universities = [\n",
    "    \"Massachusetts Institute of Technology (MIT)\",\n",
    "    \"Stanford University\",\n",
    "    \"Harvard University\",\n",
    "    \"California Institute of Technology (Caltech)\",\n",
    "    \"University of Oxford\",\n",
    "    \"University of Cambridge\",\n",
    "    \"ETH Zurich - Swiss Federal Institute of Technology\",\n",
    "    \"Imperial College London\",\n",
    "    \"University of Chicago\",\n",
    "    \"UCL (University College London)\",\n",
    "    \"National University of Singapore (NUS)\",\n",
    "    \"Princeton University\",\n",
    "    \"Nanyang Technological University, Singapore (NTU)\",\n",
    "    \"Ecole Polytechnique Fédérale de Lausanne (EPFL)\",\n",
    "    \"Tsinghua University\"\n",
    "]\n",
    "\n",
    "company = [\n",
    "    \"Google (Alphabet Inc.)\",\n",
    "    \"Meta Platforms, Inc. (formerly Facebook, Inc.)\",\n",
    "    \"Apple Inc.\",\n",
    "    \"Microsoft Corporation\",\n",
    "    \"Amazon.com, Inc.\",\n",
    "    \"Tesla, Inc.\",\n",
    "    \"Berkshire Hathaway Inc.\",\n",
    "    \"Visa Inc.\",\n",
    "    \"JPMorgan Chase & Co.\",\n",
    "    \"Johnson & Johnson\",\n",
    "    \"Samsung Electronics\",\n",
    "    \"Exxon Mobil Corporation\",\n",
    "    \"Walmart Inc.\",\n",
    "    \"Toyota Motor Corporation\",\n",
    "    \"Volkswagen AG\"\n",
    "]"
   ],
   "metadata": {
    "collapsed": false,
    "ExecuteTime": {
     "end_time": "2024-04-10T15:45:30.125224Z",
     "start_time": "2024-04-10T15:45:30.110547Z"
    }
   },
   "id": "4a4d8a735df27e47",
   "execution_count": 138
  },
  {
   "cell_type": "code",
   "outputs": [],
   "source": [
    "uni_df = create_df_from_values_with_keys(universities, 'org_name', 'org_id', 'UNI-{:04d}')\n",
    "com_df = create_df_from_values_with_keys(company, 'org_name', 'org_id', 'COM-{:04d}')\n",
    "organisation_nodes_df = pd.concat([uni_df, com_df], ignore_index=True)"
   ],
   "metadata": {
    "collapsed": false,
    "ExecuteTime": {
     "end_time": "2024-04-10T15:45:30.141940Z",
     "start_time": "2024-04-10T15:45:30.114371Z"
    }
   },
   "id": "59b33cd51172dfa2",
   "execution_count": 139
  },
  {
   "cell_type": "code",
   "outputs": [
    {
     "data": {
      "text/plain": "      org_id                                           org_name\n0   UNI-0001        Massachusetts Institute of Technology (MIT)\n1   UNI-0002                                Stanford University\n2   UNI-0003                                 Harvard University\n3   UNI-0004       California Institute of Technology (Caltech)\n4   UNI-0005                               University of Oxford\n5   UNI-0006                            University of Cambridge\n6   UNI-0007  ETH Zurich - Swiss Federal Institute of Techno...\n7   UNI-0008                            Imperial College London\n8   UNI-0009                              University of Chicago\n9   UNI-0010                    UCL (University College London)\n10  UNI-0011             National University of Singapore (NUS)\n11  UNI-0012                               Princeton University\n12  UNI-0013  Nanyang Technological University, Singapore (NTU)\n13  UNI-0014    Ecole Polytechnique Fédérale de Lausanne (EPFL)\n14  UNI-0015                                Tsinghua University\n15  COM-0001                             Google (Alphabet Inc.)\n16  COM-0002     Meta Platforms, Inc. (formerly Facebook, Inc.)\n17  COM-0003                                         Apple Inc.\n18  COM-0004                              Microsoft Corporation\n19  COM-0005                                   Amazon.com, Inc.\n20  COM-0006                                        Tesla, Inc.\n21  COM-0007                            Berkshire Hathaway Inc.\n22  COM-0008                                          Visa Inc.\n23  COM-0009                               JPMorgan Chase & Co.\n24  COM-0010                                  Johnson & Johnson\n25  COM-0011                                Samsung Electronics\n26  COM-0012                            Exxon Mobil Corporation\n27  COM-0013                                       Walmart Inc.\n28  COM-0014                           Toyota Motor Corporation\n29  COM-0015                                      Volkswagen AG",
      "text/html": "<div>\n<style scoped>\n    .dataframe tbody tr th:only-of-type {\n        vertical-align: middle;\n    }\n\n    .dataframe tbody tr th {\n        vertical-align: top;\n    }\n\n    .dataframe thead th {\n        text-align: right;\n    }\n</style>\n<table border=\"1\" class=\"dataframe\">\n  <thead>\n    <tr style=\"text-align: right;\">\n      <th></th>\n      <th>org_id</th>\n      <th>org_name</th>\n    </tr>\n  </thead>\n  <tbody>\n    <tr>\n      <th>0</th>\n      <td>UNI-0001</td>\n      <td>Massachusetts Institute of Technology (MIT)</td>\n    </tr>\n    <tr>\n      <th>1</th>\n      <td>UNI-0002</td>\n      <td>Stanford University</td>\n    </tr>\n    <tr>\n      <th>2</th>\n      <td>UNI-0003</td>\n      <td>Harvard University</td>\n    </tr>\n    <tr>\n      <th>3</th>\n      <td>UNI-0004</td>\n      <td>California Institute of Technology (Caltech)</td>\n    </tr>\n    <tr>\n      <th>4</th>\n      <td>UNI-0005</td>\n      <td>University of Oxford</td>\n    </tr>\n    <tr>\n      <th>5</th>\n      <td>UNI-0006</td>\n      <td>University of Cambridge</td>\n    </tr>\n    <tr>\n      <th>6</th>\n      <td>UNI-0007</td>\n      <td>ETH Zurich - Swiss Federal Institute of Techno...</td>\n    </tr>\n    <tr>\n      <th>7</th>\n      <td>UNI-0008</td>\n      <td>Imperial College London</td>\n    </tr>\n    <tr>\n      <th>8</th>\n      <td>UNI-0009</td>\n      <td>University of Chicago</td>\n    </tr>\n    <tr>\n      <th>9</th>\n      <td>UNI-0010</td>\n      <td>UCL (University College London)</td>\n    </tr>\n    <tr>\n      <th>10</th>\n      <td>UNI-0011</td>\n      <td>National University of Singapore (NUS)</td>\n    </tr>\n    <tr>\n      <th>11</th>\n      <td>UNI-0012</td>\n      <td>Princeton University</td>\n    </tr>\n    <tr>\n      <th>12</th>\n      <td>UNI-0013</td>\n      <td>Nanyang Technological University, Singapore (NTU)</td>\n    </tr>\n    <tr>\n      <th>13</th>\n      <td>UNI-0014</td>\n      <td>Ecole Polytechnique Fédérale de Lausanne (EPFL)</td>\n    </tr>\n    <tr>\n      <th>14</th>\n      <td>UNI-0015</td>\n      <td>Tsinghua University</td>\n    </tr>\n    <tr>\n      <th>15</th>\n      <td>COM-0001</td>\n      <td>Google (Alphabet Inc.)</td>\n    </tr>\n    <tr>\n      <th>16</th>\n      <td>COM-0002</td>\n      <td>Meta Platforms, Inc. (formerly Facebook, Inc.)</td>\n    </tr>\n    <tr>\n      <th>17</th>\n      <td>COM-0003</td>\n      <td>Apple Inc.</td>\n    </tr>\n    <tr>\n      <th>18</th>\n      <td>COM-0004</td>\n      <td>Microsoft Corporation</td>\n    </tr>\n    <tr>\n      <th>19</th>\n      <td>COM-0005</td>\n      <td>Amazon.com, Inc.</td>\n    </tr>\n    <tr>\n      <th>20</th>\n      <td>COM-0006</td>\n      <td>Tesla, Inc.</td>\n    </tr>\n    <tr>\n      <th>21</th>\n      <td>COM-0007</td>\n      <td>Berkshire Hathaway Inc.</td>\n    </tr>\n    <tr>\n      <th>22</th>\n      <td>COM-0008</td>\n      <td>Visa Inc.</td>\n    </tr>\n    <tr>\n      <th>23</th>\n      <td>COM-0009</td>\n      <td>JPMorgan Chase &amp; Co.</td>\n    </tr>\n    <tr>\n      <th>24</th>\n      <td>COM-0010</td>\n      <td>Johnson &amp; Johnson</td>\n    </tr>\n    <tr>\n      <th>25</th>\n      <td>COM-0011</td>\n      <td>Samsung Electronics</td>\n    </tr>\n    <tr>\n      <th>26</th>\n      <td>COM-0012</td>\n      <td>Exxon Mobil Corporation</td>\n    </tr>\n    <tr>\n      <th>27</th>\n      <td>COM-0013</td>\n      <td>Walmart Inc.</td>\n    </tr>\n    <tr>\n      <th>28</th>\n      <td>COM-0014</td>\n      <td>Toyota Motor Corporation</td>\n    </tr>\n    <tr>\n      <th>29</th>\n      <td>COM-0015</td>\n      <td>Volkswagen AG</td>\n    </tr>\n  </tbody>\n</table>\n</div>"
     },
     "execution_count": 140,
     "metadata": {},
     "output_type": "execute_result"
    }
   ],
   "source": [
    "organisation_nodes_df"
   ],
   "metadata": {
    "collapsed": false,
    "ExecuteTime": {
     "end_time": "2024-04-10T15:45:30.146888Z",
     "start_time": "2024-04-10T15:45:30.123443Z"
    }
   },
   "id": "953957a24e8f58d9",
   "execution_count": 140
  },
  {
   "cell_type": "code",
   "outputs": [],
   "source": [
    "def generate_organisation(df, organisation_df):\n",
    "    random_org_ids = np.random.choice(organisation_df['org_id'].values, size=len(df))\n",
    "    return random_org_ids.tolist()\n",
    "\n",
    "def generate_reviewer_decision(df):\n",
    "    random_org_ids = np.random.choice(['approved', 'rejected'], size=len(df))\n",
    "    return random_org_ids.tolist()"
   ],
   "metadata": {
    "collapsed": false,
    "ExecuteTime": {
     "end_time": "2024-04-10T15:45:30.153868Z",
     "start_time": "2024-04-10T15:45:30.127507Z"
    }
   },
   "id": "e4dc79a10162614b",
   "execution_count": 141
  },
  {
   "cell_type": "code",
   "outputs": [
    {
     "name": "stderr",
     "output_type": "stream",
     "text": [
      "/var/folders/05/g_42ptlx3vqgr85jtt5kpthw0000gn/T/ipykernel_51662/3771868803.py:1: SettingWithCopyWarning: \n",
      "A value is trying to be set on a copy of a slice from a DataFrame.\n",
      "Try using .loc[row_indexer,col_indexer] = value instead\n",
      "\n",
      "See the caveats in the documentation: https://pandas.pydata.org/pandas-docs/stable/user_guide/indexing.html#returning-a-view-versus-a-copy\n",
      "  author_nodes_df['org_id'] = generate_organisation(author_nodes_df, organisation_nodes_df)\n"
     ]
    }
   ],
   "source": [
    "author_nodes_df['org_id'] = generate_organisation(author_nodes_df, organisation_nodes_df)"
   ],
   "metadata": {
    "collapsed": false,
    "ExecuteTime": {
     "end_time": "2024-04-10T15:46:08.525282Z",
     "start_time": "2024-04-10T15:46:08.521589Z"
    }
   },
   "id": "1f66ee155e192f14",
   "execution_count": 143
  },
  {
   "cell_type": "code",
   "outputs": [],
   "source": [
    "author_AFFILIATED_UNIVERSITY_organisation_df = author_nodes_df[author_nodes_df['org_id'].str.startswith(\"UNI\")][['id', 'org_id']]\n",
    "author_AFFILIATED_COMPANY_organisation_df = author_nodes_df[author_nodes_df['org_id'].str.startswith(\"COM\")][['id', 'org_id']]"
   ],
   "metadata": {
    "collapsed": false,
    "ExecuteTime": {
     "end_time": "2024-04-10T15:46:10.160229Z",
     "start_time": "2024-04-10T15:46:10.158459Z"
    }
   },
   "id": "34c3c6da92b1143a",
   "execution_count": 144
  },
  {
   "cell_type": "code",
   "outputs": [],
   "source": [
    "author_REVIEWS_paper_journal_df['decision'] = generate_reviewer_decision(author_REVIEWS_paper_journal_df)\n",
    "author_REVIEWS_paper_journal_df['description'] = 'Description placeholder'"
   ],
   "metadata": {
    "collapsed": false,
    "ExecuteTime": {
     "end_time": "2024-04-10T15:46:11.676002Z",
     "start_time": "2024-04-10T15:46:11.672476Z"
    }
   },
   "id": "8be08cb1bdf13737",
   "execution_count": 145
  },
  {
   "cell_type": "code",
   "outputs": [],
   "source": [
    "author_REVIEWS_paper_proceeding_df['decision'] = generate_reviewer_decision(author_REVIEWS_paper_proceeding_df)\n",
    "author_REVIEWS_paper_proceeding_df['description'] = 'Description placeholder'"
   ],
   "metadata": {
    "collapsed": false,
    "ExecuteTime": {
     "end_time": "2024-04-10T15:46:11.678424Z",
     "start_time": "2024-04-10T15:46:11.674750Z"
    }
   },
   "id": "5d7381b7531550b6",
   "execution_count": 146
  },
  {
   "cell_type": "markdown",
   "source": [
    "# Save nodes and relations"
   ],
   "metadata": {
    "collapsed": false
   },
   "id": "9514854cab6c7f31"
  },
  {
   "cell_type": "code",
   "outputs": [],
   "source": [
    "# Nodes\n",
    "organisation_nodes_df.to_csv(f'{neo4j_import_folder_path}/organisation_nodes.csv', index=False)\n",
    "\n",
    "# Relations\n",
    "author_AFFILIATED_UNIVERSITY_organisation_df.to_csv(f'{neo4j_import_folder_path}/author_AFFILIATED_UNIVERSITY_organisation.csv', index=False)\n",
    "author_AFFILIATED_COMPANY_organisation_df.to_csv(f'{neo4j_import_folder_path}/author_AFFILIATED_COMPANY_organisation.csv', index=False)\n",
    "author_REVIEWS_paper_journal_df.to_csv(f'{neo4j_import_folder_path}/author_REVIEWS_paper_journal_upd.csv', index=False)\n",
    "author_REVIEWS_paper_proceeding_df.to_csv(f'{neo4j_import_folder_path}/author_REVIEWS_paper_proceeding_upd.csv', index=False)"
   ],
   "metadata": {
    "collapsed": false,
    "ExecuteTime": {
     "end_time": "2024-04-10T15:46:13.235283Z",
     "start_time": "2024-04-10T15:46:13.226338Z"
    }
   },
   "id": "83b048524a8d8ced",
   "execution_count": 147
  },
  {
   "cell_type": "code",
   "outputs": [],
   "source": [],
   "metadata": {
    "collapsed": false
   },
   "id": "20906599e0a2a484"
  }
 ],
 "metadata": {
  "kernelspec": {
   "display_name": "Python 3",
   "language": "python",
   "name": "python3"
  },
  "language_info": {
   "codemirror_mode": {
    "name": "ipython",
    "version": 2
   },
   "file_extension": ".py",
   "mimetype": "text/x-python",
   "name": "python",
   "nbconvert_exporter": "python",
   "pygments_lexer": "ipython2",
   "version": "2.7.6"
  }
 },
 "nbformat": 4,
 "nbformat_minor": 5
}
