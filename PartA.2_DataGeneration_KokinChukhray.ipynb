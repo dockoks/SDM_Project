{
 "cells": [
  {
   "cell_type": "code",
   "outputs": [],
   "source": [
    "import pandas as pd\n",
    "import numpy as np\n",
    "import random\n",
    "from datetime import timedelta, datetime"
   ],
   "metadata": {
    "collapsed": false,
    "ExecuteTime": {
     "end_time": "2024-04-10T13:37:34.496799Z",
     "start_time": "2024-04-10T13:37:34.484422Z"
    }
   },
   "id": "af3d3cd94b7a6136",
   "execution_count": 498
  },
  {
   "cell_type": "code",
   "outputs": [],
   "source": [
    "random.seed(42)"
   ],
   "metadata": {
    "collapsed": false
   },
   "id": "eb82f37939957bd3"
  },
  {
   "cell_type": "markdown",
   "source": [
    "# Values for data synthesis"
   ],
   "metadata": {
    "collapsed": false
   },
   "id": "43888c274ceea2ce"
  },
  {
   "cell_type": "code",
   "outputs": [],
   "source": [
    "cities = [\n",
    "    \"New York\", \"Los Angeles\", \"Chicago\", \"Houston\", \"Phoenix\",\n",
    "    \"Philadelphia\", \"San Antonio\", \"San Diego\", \"Dallas\", \"San Jose\",\n",
    "    \"Austin\", \"Jacksonville\", \"Fort Worth\", \"Columbus\", \"Charlotte\",\n",
    "    \"San Francisco\", \"Indianapolis\", \"Seattle\", \"Denver\", \"Washington\",\n",
    "    \"Boston\", \"El Paso\", \"Nashville\", \"Detroit\", \"Oklahoma City\",\n",
    "    \"Portland\", \"Las Vegas\", \"Memphis\", \"Louisville\", \"Baltimore\",\n",
    "    \"Milwaukee\", \"Albuquerque\", \"Tucson\", \"Fresno\", \"Mesa\",\n",
    "    \"Sacramento\", \"Atlanta\", \"Kansas City\", \"Colorado Springs\", \"Miami\",\n",
    "    \"Raleigh\", \"Omaha\", \"Long Beach\", \"Virginia Beach\", \"Oakland\",\n",
    "    \"Minneapolis\", \"Tulsa\", \"Arlington\", \"Tampa\", \"New Orleans\",\n",
    "    \"London\", \"Paris\", \"Tokyo\", \"Beijing\", \"Moscow\",\n",
    "    \"Sydney\", \"Dubai\", \"Mexico City\", \"Sao Paulo\", \"Mumbai\",\n",
    "    \"Cairo\", \"Istanbul\", \"Lagos\", \"Buenos Aires\", \"Seoul\",\n",
    "    \"Bangkok\", \"Kolkata\", \"Tehran\", \"Berlin\", \"Bogota\",\n",
    "    \"Lima\", \"Jakarta\", \"Riyadh\", \"Madrid\", \"Rome\"\n",
    "]"
   ],
   "metadata": {
    "collapsed": false,
    "ExecuteTime": {
     "end_time": "2024-04-10T13:37:36.031769Z",
     "start_time": "2024-04-10T13:37:36.028860Z"
    }
   },
   "id": "839a1ace862c2fe8",
   "execution_count": 499
  },
  {
   "cell_type": "code",
   "outputs": [],
   "source": [
    "keywords = [\n",
    "    \"artificial intelligence\", \"climate change\", \"sustainable development\",\n",
    "    \"quantum computing\", \"genetic engineering\", \"machine learning\", \"cybersecurity\",\n",
    "    \"public health\", \"renewable energy\", \"data analytics\", \"blockchain\", \"nanotechnology\",\n",
    "    \"neural networks\", \"ecosystem services\", \"cancer research\", \"autonomous vehicles\",\n",
    "    \"internet of things\", \"big data\", \"vaccine development\", \"bioinformatics\",\n",
    "    \"virtual reality\", \"augmented reality\", \"deep learning\", \"biodiversity\",\n",
    "    \"mental health\", \"smart cities\", \"robotics\", \"3D printing\", \"cloud computing\",\n",
    "    \"CRISPR\", \"agritech\", \"clean technology\", \"material science\", \"photovoltaics\",\n",
    "    \"drug discovery\", \"astrophysics\", \"oceanography\", \"glaciology\", \"sociology\",\n",
    "    \"economics\", \"political science\", \"urban planning\", \"microbiology\", \"quantum mechanics\",\n",
    "    \"biochemistry\", \"particle physics\", \"organic chemistry\", \"computational biology\",\n",
    "    \"environmental justice\", \"sustainable agriculture\", \"water scarcity\", \"air pollution\",\n",
    "    \"soil degradation\", \"renewable resources\", \"energy storage\", \"machine ethics\",\n",
    "    \"digital humanities\", \"biomedical engineering\", \"forensic science\", \"epidemiology\",\n",
    "    \"neuroscience\", \"cognitive science\", \"psychology\", \"anthropology\", \"linguistics\",\n",
    "    \"education technology\", \"space exploration\", \"conservation biology\", \"green chemistry\", \n",
    "    \"industrial automation\", \"wearable technology\", \"nutrition science\",\n",
    "    # mandatory keywords\n",
    "    \"data management\", \n",
    "    \"indexing\", \n",
    "    \"data modeling\", \n",
    "    \"big data\", \n",
    "    \"data processing\", \n",
    "    \"data storage\",\n",
    "    \"data querying\"\n",
    "]\n",
    "\n",
    "first_names = [\n",
    "    \"Alex\", \"Jamie\", \"Casey\", \"Morgan\", \"Taylor\", \"Jordan\", \"Riley\", \"Cameron\", \"Skyler\", \"Quinn\", \n",
    "    \"Pat\", \"Drew\", \"Sam\", \"Chris\", \"Robin\", \"Lee\", \"Dana\", \"Kelly\", \"Alexis\", \"Leslie\"\n",
    "]\n",
    "\n",
    "last_names = [\n",
    "    \"Smith\", \"Johnson\", \"Williams\", \"Brown\", \"Jones\", \"Garcia\", \"Miller\", \"Davis\", \"Rodriguez\", \n",
    "    \"Martinez\", \"Wilson\", \"Anderson\", \"Thomas\", \"Taylor\", \"Moore\", \"Jackson\", \"Martin\", \"Lee\", \"Perez\", \"Thompson\"\n",
    "]"
   ],
   "metadata": {
    "collapsed": false,
    "ExecuteTime": {
     "end_time": "2024-04-10T13:37:36.040548Z",
     "start_time": "2024-04-10T13:37:36.031103Z"
    }
   },
   "id": "b5d775edd8d11ef7",
   "execution_count": 500
  },
  {
   "cell_type": "markdown",
   "source": [
    "# Functions & Load data #"
   ],
   "metadata": {
    "collapsed": false
   },
   "id": "82039be23c16e328"
  },
  {
   "cell_type": "code",
   "outputs": [],
   "source": [
    "def read_custom_file(file_path, low_memory=False):\n",
    "    df = pd.read_csv(file_path, sep=';', header=None, low_memory=low_memory)\n",
    "    df.columns = df.iloc[0]\n",
    "    df = df.drop(df.index[0])\n",
    "    return df"
   ],
   "metadata": {
    "collapsed": false,
    "ExecuteTime": {
     "end_time": "2024-04-10T13:37:36.041472Z",
     "start_time": "2024-04-10T13:37:36.035822Z"
    }
   },
   "id": "c5efc9caff810432",
   "execution_count": 501
  },
  {
   "cell_type": "code",
   "outputs": [],
   "source": [
    "path = '/Users/danilakokin/Desktop/UPC/Semester2/SDM/SDM_Project/joined'\n",
    "\n",
    "proceeding_df = pd.read_csv(f'{path}/proceedings.csv', low_memory=False).sample(7500)\n",
    "article_df = pd.read_csv(f'{path}/article.csv', low_memory=False).sample(7500)\n",
    "book_df = pd.read_csv(f'{path}/book.csv', low_memory=False).sample(7500)\n",
    "\n",
    "journal_df = read_custom_file(f'{path}/journal.csv')\n",
    "authors_df = read_custom_file(f'{path}/author.csv')"
   ],
   "metadata": {
    "collapsed": false,
    "ExecuteTime": {
     "end_time": "2024-04-10T13:38:15.355791Z",
     "start_time": "2024-04-10T13:37:36.039248Z"
    }
   },
   "id": "9f76061cbbadff3d",
   "execution_count": 502
  },
  {
   "cell_type": "code",
   "outputs": [],
   "source": [
    "def generate_city():\n",
    "    return np.random.choice(cities)\n",
    "    \n",
    "def generate_birth_date_vectorized(start='1945-01-01', end='1989-01-01', size=1):\n",
    "    # Convert start and end dates to timestamps\n",
    "    start_u = datetime.strptime(start, '%Y-%m-%d').timestamp()\n",
    "    end_u = datetime.strptime(end, '%Y-%m-%d').timestamp()\n",
    "    \n",
    "    # Generate random dates\n",
    "    random_dates_u = np.random.randint(start_u, end_u, size)\n",
    "    random_dates = [datetime.utcfromtimestamp(date).strftime('%Y-%m-%d') for date in random_dates_u]\n",
    "    \n",
    "    return random_dates if size > 1 else random_dates[0]\n",
    "\n",
    "def generate_proceeding_type():\n",
    "    return np.random.choice(['WORKSHOP', 'CONFERENCE'], p=[0.4, 0.6])\n",
    "\n",
    "def select_random_keywords(keywords=keywords, min_keywords=4, max_keywords=8):\n",
    "    num_to_select = random.randint(min_keywords, max_keywords)\n",
    "    selected_keywords = random.sample(keywords, num_to_select)\n",
    "    return selected_keywords"
   ],
   "metadata": {
    "collapsed": false,
    "ExecuteTime": {
     "end_time": "2024-04-10T13:38:15.360245Z",
     "start_time": "2024-04-10T13:38:15.354783Z"
    }
   },
   "id": "d2cf651295266ea6",
   "execution_count": 503
  },
  {
   "cell_type": "code",
   "outputs": [],
   "source": [
    "# Helpers\n",
    "def filter_rows_by_values(df, column_name, values_set):\n",
    "    return df[df[column_name].isin(values_set)]\n",
    "\n",
    "def make_mapping(df, key_column, value_column):\n",
    "    return pd.Series(df[key_column], index=df[value_column]).to_dict()\n",
    "\n",
    "def create_df_from_values_with_keys(values, value_col_name, key_col_name, key_pattern='ID-{:06d}'):\n",
    "    df = pd.DataFrame({\n",
    "        key_col_name: [key_pattern.format(i+1) for i in range(len(values))],\n",
    "        value_col_name: values\n",
    "    })\n",
    "    return df\n",
    "\n",
    "def collect_values_to_set(df, column_name):\n",
    "    return set(df[column_name].explode().dropna().unique())\n"
   ],
   "metadata": {
    "collapsed": false,
    "ExecuteTime": {
     "end_time": "2024-04-10T13:38:15.380960Z",
     "start_time": "2024-04-10T13:38:15.359340Z"
    }
   },
   "id": "f17a7aed877917e9",
   "execution_count": 504
  },
  {
   "cell_type": "code",
   "outputs": [],
   "source": [
    "def add_citations_column(df):\n",
    "    sorted_df = df.sort_values(by='year').copy()\n",
    "    citations_dict = {index: [] for index in sorted_df.index}\n",
    "    \n",
    "    # Pre-compute the valid citation ids for each year to avoid doing it in the loop\n",
    "    valid_citations_per_year = {year: sorted_df[sorted_df['year'] < year]['paper_id'].tolist() for year in sorted_df['year'].unique()}\n",
    "    \n",
    "    for index, row in sorted_df.iterrows():\n",
    "        valid_citations = valid_citations_per_year[row['year']]\n",
    "        \n",
    "        if valid_citations:\n",
    "            num_ids_to_select = min(np.random.randint(3, 7), len(valid_citations))\n",
    "            selected_ids = np.random.choice(valid_citations, size=num_ids_to_select, replace=False)\n",
    "            citations_dict[index] = selected_ids.tolist()\n",
    "    \n",
    "    sorted_df['citation_id'] = pd.Series(citations_dict).apply(lambda ids: ids if isinstance(ids, list) else pd.NA)\n",
    "    return sorted_df[('citation_id')]\n",
    "\n",
    "\n",
    "def choose_reviewers(authors, reviewers_set):\n",
    "    authors_set = set(authors)\n",
    "    all_reviewers = list(reviewers_set - authors_set)\n",
    "    num_reviewers = np.random.choice([1, 2, 3, 4, 5], p=[0.05, 0.15, 0.6, 0.15, 0.05])\n",
    "    \n",
    "    if len(all_reviewers) >= num_reviewers:\n",
    "        return np.random.choice(all_reviewers, size=num_reviewers, replace=False).tolist()\n",
    "    \n",
    "    chosen_reviewers = all_reviewers\n",
    "    remaining_needed = num_reviewers - len(chosen_reviewers)\n",
    "    \n",
    "    if remaining_needed > 0:\n",
    "        fill_ins = np.random.choice(list(reviewers_set - authors_set), size=remaining_needed, replace=False).tolist()\n",
    "        chosen_reviewers.extend(fill_ins)\n",
    "    \n",
    "    return chosen_reviewers\n",
    "\n",
    "def add_columns_from_authors(df, authors_col_name, reviewers_set):\n",
    "    df['core_author'] = df[authors_col_name].str[0]\n",
    "    df['co_author'] = df[authors_col_name].apply(lambda authors: authors[1:] if len(authors) > 1 else pd.NA)\n",
    "    \n",
    "    # Assuming 'authors' are lists, we can avoid an apply by directly using a list comprehension\n",
    "    df['reviewer'] = [choose_reviewers(authors, reviewers_set) for authors in df[authors_col_name]]\n",
    "    \n",
    "    return df\n"
   ],
   "metadata": {
    "collapsed": false,
    "ExecuteTime": {
     "end_time": "2024-04-10T13:38:15.382048Z",
     "start_time": "2024-04-10T13:38:15.367127Z"
    }
   },
   "id": "43c212bc45d3ace1",
   "execution_count": 505
  },
  {
   "cell_type": "code",
   "outputs": [],
   "source": [
    "def preprocess_authors(df):\n",
    "    birth_dates = generate_birth_date_vectorized(size=len(df))\n",
    "    \n",
    "    df = df.dropna(subset=[':ID', 'author:string']).drop_duplicates(subset=[':ID'], keep='first')\n",
    "    \n",
    "    df['id'] = df[':ID'].astype(str)\n",
    "    df['full_name'] = df['author:string']\n",
    "    df['birth_date'] = birth_dates\n",
    "    \n",
    "    return df[['id', 'full_name', 'birth_date']]\n",
    "\n",
    "def preprocess_journals(df):\n",
    "    df = df.loc[:, [':ID', 'journal:string']].drop_duplicates(subset=[':ID'], keep='first').dropna()\n",
    "    df.rename(columns={':ID': 'id', 'journal:string': 'name'}, inplace=True)\n",
    "    \n",
    "    return df\n",
    "\n",
    "def preprocess_books(df):\n",
    "    filtered_df = df[(df['author:string[]'].str.len() > 2) & (df['title:string'].str.len() > 2)]\n",
    "    \n",
    "    return (\n",
    "        filtered_df.assign(\n",
    "            abstract='Abstract',\n",
    "            paper_id='PPR-' + filtered_df['book:ID'].astype(str),\n",
    "            authors=filtered_df['author:string[]'].apply(lambda x: x.split('|') if pd.notnull(x) else pd.NA),\n",
    "            title=filtered_df['title:string'],\n",
    "            year=filtered_df['year:int']\n",
    "        )\n",
    "        .loc[:, ['paper_id', 'authors', 'title', 'abstract', 'year']]\n",
    "        .dropna(subset=['authors', 'year'])\n",
    "    )\n",
    "\n",
    "def preprocess_proceedings(df):\n",
    "    # Fill missing values\n",
    "    df['editor:string[]'] = df['editor:string[]'].fillna('')\n",
    "    df['publisher:string[]'] = df['publisher:string[]'].fillna('')\n",
    "    \n",
    "    # Filter rows based on content length criteria\n",
    "    filtered_df = df[(df['editor:string[]'].str.len() > 2) & (df['publisher:string[]'].str.len() > 2)].copy()\n",
    "    \n",
    "    # Assuming 'create_df_from_values_with_keys' returns a DataFrame with unique values and an ID column\n",
    "    unique_proceeding_df = create_df_from_values_with_keys(filtered_df['publisher:string[]'].unique(), 'proceeding_name', 'proceeding_id', key_pattern='PR-{:06d}')\n",
    "    proceeding_name_to_id_map = dict(zip(unique_proceeding_df['proceeding_name'], unique_proceeding_df['proceeding_id']))\n",
    "    \n",
    "    # Map 'publisher:string[]' to 'proceeding_id'\n",
    "    filtered_df.loc[:, 'proceeding_id'] = filtered_df['publisher:string[]'].map(proceeding_name_to_id_map)\n",
    "    \n",
    "    # Extract the first editor as chairman\n",
    "    filtered_df.loc[:, 'chairman'] = filtered_df['editor:string[]'].apply(lambda x: x.split('|')[0] if x else pd.NA)\n",
    "    \n",
    "    unique_chairman_df = create_df_from_values_with_keys(filtered_df['chairman'].unique(), 'person_name', 'person_id', key_pattern='CH-{:06d}')\n",
    "    chairman_name_to_id_map = dict(zip(unique_chairman_df['person_name'], unique_chairman_df['person_id']))\n",
    "    \n",
    "    # Map 'chairman' to 'person_id'\n",
    "    filtered_df.loc[:, 'chairman'] = filtered_df['chairman'].map(chairman_name_to_id_map)\n",
    "    \n",
    "    # Additional transformations\n",
    "    filtered_df.loc[:, 'edition_id'] = filtered_df['proceeding_id'].astype(str) + '-' + filtered_df['volume:string'].astype(str)\n",
    "    \n",
    "    filtered_df = filtered_df.assign(\n",
    "        name=filtered_df['publisher:string[]'],\n",
    "        edition_value=filtered_df['volume:string'],\n",
    "        edition_date=filtered_df['mdate:date'],\n",
    "        edition_city=[generate_city() for _ in range(len(filtered_df))]\n",
    "    ).dropna(subset=['edition_value']).drop_duplicates(subset=['edition_id'])\n",
    "\n",
    "    # Select and rename columns as necessary\n",
    "    final_df = filtered_df.loc[:, ['proceeding_id', 'chairman', 'name', 'edition_date', 'edition_id', 'edition_city']]\n",
    "    \n",
    "    return final_df, unique_proceeding_df, unique_chairman_df\n",
    "\n",
    "def preprocess_articles(df):\n",
    "    filtered_df = df[(df['author:string[]'].str.len() > 2) & (df['title:string'].str.len() > 2)]\n",
    "    \n",
    "    return (\n",
    "        filtered_df.assign(\n",
    "            paper_id=filtered_df['article:ID'].astype(str),\n",
    "            authors=filtered_df['author:string[]'].apply(lambda x: x.split('|') if pd.notnull(x) else pd.NA),\n",
    "            journal=filtered_df['journal:string'],\n",
    "            date=filtered_df['mdate:date'],\n",
    "            title=filtered_df['title:string'],\n",
    "            volume=filtered_df['volume:string'],\n",
    "            year=filtered_df['year:int'].apply(lambda x: int(x) if pd.notnull(x) else pd.NA)\n",
    "        )\n",
    "        .dropna(subset=['authors', 'journal', 'volume'])\n",
    "        .loc[:, ['paper_id', 'authors', 'journal', 'date', 'title', 'volume', 'year']]\n",
    "    )\n"
   ],
   "metadata": {
    "collapsed": false,
    "ExecuteTime": {
     "end_time": "2024-04-10T13:38:15.382854Z",
     "start_time": "2024-04-10T13:38:15.368560Z"
    }
   },
   "id": "9a58ca3d26164a71",
   "execution_count": 506
  },
  {
   "cell_type": "markdown",
   "source": [
    "# Cleaning and filling #"
   ],
   "metadata": {
    "collapsed": false
   },
   "id": "f6699ce64783b0fe"
  },
  {
   "cell_type": "code",
   "outputs": [
    {
     "name": "stderr",
     "output_type": "stream",
     "text": [
      "/var/folders/05/g_42ptlx3vqgr85jtt5kpthw0000gn/T/ipykernel_5324/3127877119.py:11: DeprecationWarning: datetime.datetime.utcfromtimestamp() is deprecated and scheduled for removal in a future version. Use timezone-aware objects to represent datetimes in UTC: datetime.datetime.fromtimestamp(timestamp, datetime.UTC).\n",
      "  random_dates = [datetime.utcfromtimestamp(date).strftime('%Y-%m-%d') for date in random_dates_u]\n"
     ]
    }
   ],
   "source": [
    "authors_prep_df = preprocess_authors(authors_df)\n",
    "journals_prep_df = preprocess_journals(journal_df)"
   ],
   "metadata": {
    "collapsed": false,
    "ExecuteTime": {
     "end_time": "2024-04-10T13:38:26.045087Z",
     "start_time": "2024-04-10T13:38:15.379490Z"
    }
   },
   "id": "4478b20b6a59dff0",
   "execution_count": 507
  },
  {
   "cell_type": "code",
   "outputs": [],
   "source": [
    "author_to_id_map = dict(zip(authors_prep_df['full_name'], authors_prep_df['id']))\n",
    "journal_to_id_map = dict(zip(journals_prep_df['name'], journals_prep_df['id']))"
   ],
   "metadata": {
    "collapsed": false,
    "ExecuteTime": {
     "end_time": "2024-04-10T13:38:27.655745Z",
     "start_time": "2024-04-10T13:38:27.651268Z"
    }
   },
   "id": "447aeecf46bf3464",
   "execution_count": 508
  },
  {
   "cell_type": "code",
   "outputs": [],
   "source": [
    "papers_from_proceeding_df = preprocess_books(book_df)\n",
    "papers_from_journal_df = preprocess_articles(article_df)\n",
    "prep_proceedings_df, proceeding_nodes_df, chairman_nodes_df = preprocess_proceedings(proceeding_df)"
   ],
   "metadata": {
    "collapsed": false,
    "ExecuteTime": {
     "end_time": "2024-04-10T13:38:27.823514Z",
     "start_time": "2024-04-10T13:38:27.658854Z"
    }
   },
   "id": "dc02ed0c97e723cc",
   "execution_count": 509
  },
  {
   "cell_type": "code",
   "outputs": [],
   "source": [
    "papers_from_proceeding_df['authors'] = papers_from_proceeding_df['authors'].apply(lambda x: [author_to_id_map.get(a) for a in x] if x is not pd.NA else pd.NA)\n",
    "reviewers_set = set(papers_from_proceeding_df['authors'].dropna().explode().unique())\n",
    "papers_from_proceeding_df = add_columns_from_authors(papers_from_proceeding_df, 'authors', reviewers_set)\n",
    "papers_from_proceeding_df['citation_id'] = add_citations_column(papers_from_proceeding_df)\n",
    "papers_from_proceeding_df['keywords'] = [select_random_keywords() for _ in range(len(papers_from_proceeding_df))]\n",
    "\n",
    "# Prepare the final DataFrame for proceedings\n",
    "proceeding_prep_df = papers_from_proceeding_df[['paper_id', 'title', 'abstract', 'core_author', 'co_author', 'citation_id', 'keywords']]"
   ],
   "metadata": {
    "collapsed": false,
    "ExecuteTime": {
     "end_time": "2024-04-10T13:38:42.361415Z",
     "start_time": "2024-04-10T13:38:27.835354Z"
    }
   },
   "id": "4d29f9ff8c49815c",
   "execution_count": 510
  },
  {
   "cell_type": "code",
   "outputs": [
    {
     "data": {
      "text/plain": "           paper_id                                              title  \\\n17817  PPR-10461382  Security Patterns - Integrating Security and S...   \n4991   PPR-10429543                 From Genomic to Functional models.   \n1257      PPR-34349              Multiple Fuzzy Classification Systems   \n11794  PPR-10454641  Computational Rhythm Description - a Review an...   \n11366  PPR-10454173  Mobile Computing - Grundlagen, Technik, Konzepte.   \n...             ...                                                ...   \n17732  PPR-10461291                     Computational Matrix Analysis.   \n7084   PPR-10436584                                    Convex Analysis   \n7933   PPR-10439061  Introduction to Functional Differential Equations   \n5493   PPR-10430045  Une contribution à l'allocation des ressources...   \n15682  PPR-10458994  Networked Graphics - Building Networked Games ...   \n\n       abstract  year core_author                                 co_author  \\\n17817  Abstract  2005    10755193  [14002639, 11040723, 10626027, 11517468]   \n4991   Abstract  2009    11105548                                      <NA>   \n1257   Abstract  2012    10613895                                      <NA>   \n11794  Abstract  2008    12979937                                      <NA>   \n11366  Abstract  2002    10832144                                      <NA>   \n...         ...   ...         ...                                       ...   \n17732  Abstract  2012    10805568                                      <NA>   \n7084   Abstract  1970    10819748                                      <NA>   \n7933   Abstract  1993    13499553                                [13848719]   \n5493   Abstract  2014    10709944                                      <NA>   \n15682  Abstract  2009    10652323                                [10934896]   \n\n                                                reviewer  \\\n17817                                   [Dylan P. Losey]   \n4991          [Tingyang Xu, Yunzhan Zhou, Darya Klyamer]   \n1257   [Imed Romdhani, Wenkai Zhang, Paolo Bientinesi...   \n11794           [Xiaofei Wang, Glen Kramer, Atta Oveisi]   \n11366  [Ranjan K. Mallik, Seok-Lyong Lee, Michael Rob...   \n...                                                  ...   \n17732     [Chanchal K. Roy, Baocang Ding, Ravi G. Patel]   \n7084                                   [Andrea Albright]   \n7933      [Xiangbo Shu, Shotaro Kataoka, Yongxuan Zhang]   \n5493   [Chuansheng Chen, Magnus Egerstedt, Martin Mai...   \n15682  [Daniel Ménard, Bo Wang 0020, Antonino Sferlazza]   \n\n                                             citation_id  \\\n17817  [PPR-10459656, PPR-10452675, PPR-10460568, PPR...   \n4991   [PPR-10457480, PPR-10430299, PPR-10454385, PPR...   \n1257          [PPR-10462870, PPR-10461817, PPR-10459994]   \n11794  [PPR-10454740, PPR-33306, PPR-10454293, PPR-10...   \n11366  [PPR-10457814, PPR-10457116, PPR-10455561, PPR...   \n...                                                  ...   \n17732         [PPR-10452575, PPR-10461111, PPR-10457972]   \n7084          [PPR-10454907, PPR-10461664, PPR-10461070]   \n7933   [PPR-10459866, PPR-10430373, PPR-10462943, PPR...   \n5493   [PPR-10460544, PPR-10430995, PPR-10437645, PPR...   \n15682  [PPR-10458558, PPR-10456978, PPR-33087, PPR-10...   \n\n                                                keywords  \n17817  [quantum computing, astrophysics, clean techno...  \n4991   [ecosystem services, industrial automation, na...  \n1257   [quantum computing, nanotechnology, 3D printin...  \n11794  [data storage, quantum computing, nutrition sc...  \n11366  [astrophysics, artificial intelligence, virtua...  \n...                                                  ...  \n17732  [renewable energy, big data, cancer research, ...  \n7084   [deep learning, quantum mechanics, data queryi...  \n7933   [data analytics, biochemistry, energy storage,...  \n5493   [robotics, cybersecurity, cognitive science, m...  \n15682  [renewable energy, smart cities, 3D printing, ...  \n\n[6606 rows x 9 columns]",
      "text/html": "<div>\n<style scoped>\n    .dataframe tbody tr th:only-of-type {\n        vertical-align: middle;\n    }\n\n    .dataframe tbody tr th {\n        vertical-align: top;\n    }\n\n    .dataframe thead th {\n        text-align: right;\n    }\n</style>\n<table border=\"1\" class=\"dataframe\">\n  <thead>\n    <tr style=\"text-align: right;\">\n      <th></th>\n      <th>paper_id</th>\n      <th>title</th>\n      <th>abstract</th>\n      <th>year</th>\n      <th>core_author</th>\n      <th>co_author</th>\n      <th>reviewer</th>\n      <th>citation_id</th>\n      <th>keywords</th>\n    </tr>\n  </thead>\n  <tbody>\n    <tr>\n      <th>17817</th>\n      <td>PPR-10461382</td>\n      <td>Security Patterns - Integrating Security and S...</td>\n      <td>Abstract</td>\n      <td>2005</td>\n      <td>10755193</td>\n      <td>[14002639, 11040723, 10626027, 11517468]</td>\n      <td>[Dylan P. Losey]</td>\n      <td>[PPR-10459656, PPR-10452675, PPR-10460568, PPR...</td>\n      <td>[quantum computing, astrophysics, clean techno...</td>\n    </tr>\n    <tr>\n      <th>4991</th>\n      <td>PPR-10429543</td>\n      <td>From Genomic to Functional models.</td>\n      <td>Abstract</td>\n      <td>2009</td>\n      <td>11105548</td>\n      <td>&lt;NA&gt;</td>\n      <td>[Tingyang Xu, Yunzhan Zhou, Darya Klyamer]</td>\n      <td>[PPR-10457480, PPR-10430299, PPR-10454385, PPR...</td>\n      <td>[ecosystem services, industrial automation, na...</td>\n    </tr>\n    <tr>\n      <th>1257</th>\n      <td>PPR-34349</td>\n      <td>Multiple Fuzzy Classification Systems</td>\n      <td>Abstract</td>\n      <td>2012</td>\n      <td>10613895</td>\n      <td>&lt;NA&gt;</td>\n      <td>[Imed Romdhani, Wenkai Zhang, Paolo Bientinesi...</td>\n      <td>[PPR-10462870, PPR-10461817, PPR-10459994]</td>\n      <td>[quantum computing, nanotechnology, 3D printin...</td>\n    </tr>\n    <tr>\n      <th>11794</th>\n      <td>PPR-10454641</td>\n      <td>Computational Rhythm Description - a Review an...</td>\n      <td>Abstract</td>\n      <td>2008</td>\n      <td>12979937</td>\n      <td>&lt;NA&gt;</td>\n      <td>[Xiaofei Wang, Glen Kramer, Atta Oveisi]</td>\n      <td>[PPR-10454740, PPR-33306, PPR-10454293, PPR-10...</td>\n      <td>[data storage, quantum computing, nutrition sc...</td>\n    </tr>\n    <tr>\n      <th>11366</th>\n      <td>PPR-10454173</td>\n      <td>Mobile Computing - Grundlagen, Technik, Konzepte.</td>\n      <td>Abstract</td>\n      <td>2002</td>\n      <td>10832144</td>\n      <td>&lt;NA&gt;</td>\n      <td>[Ranjan K. Mallik, Seok-Lyong Lee, Michael Rob...</td>\n      <td>[PPR-10457814, PPR-10457116, PPR-10455561, PPR...</td>\n      <td>[astrophysics, artificial intelligence, virtua...</td>\n    </tr>\n    <tr>\n      <th>...</th>\n      <td>...</td>\n      <td>...</td>\n      <td>...</td>\n      <td>...</td>\n      <td>...</td>\n      <td>...</td>\n      <td>...</td>\n      <td>...</td>\n      <td>...</td>\n    </tr>\n    <tr>\n      <th>17732</th>\n      <td>PPR-10461291</td>\n      <td>Computational Matrix Analysis.</td>\n      <td>Abstract</td>\n      <td>2012</td>\n      <td>10805568</td>\n      <td>&lt;NA&gt;</td>\n      <td>[Chanchal K. Roy, Baocang Ding, Ravi G. Patel]</td>\n      <td>[PPR-10452575, PPR-10461111, PPR-10457972]</td>\n      <td>[renewable energy, big data, cancer research, ...</td>\n    </tr>\n    <tr>\n      <th>7084</th>\n      <td>PPR-10436584</td>\n      <td>Convex Analysis</td>\n      <td>Abstract</td>\n      <td>1970</td>\n      <td>10819748</td>\n      <td>&lt;NA&gt;</td>\n      <td>[Andrea Albright]</td>\n      <td>[PPR-10454907, PPR-10461664, PPR-10461070]</td>\n      <td>[deep learning, quantum mechanics, data queryi...</td>\n    </tr>\n    <tr>\n      <th>7933</th>\n      <td>PPR-10439061</td>\n      <td>Introduction to Functional Differential Equations</td>\n      <td>Abstract</td>\n      <td>1993</td>\n      <td>13499553</td>\n      <td>[13848719]</td>\n      <td>[Xiangbo Shu, Shotaro Kataoka, Yongxuan Zhang]</td>\n      <td>[PPR-10459866, PPR-10430373, PPR-10462943, PPR...</td>\n      <td>[data analytics, biochemistry, energy storage,...</td>\n    </tr>\n    <tr>\n      <th>5493</th>\n      <td>PPR-10430045</td>\n      <td>Une contribution à l'allocation des ressources...</td>\n      <td>Abstract</td>\n      <td>2014</td>\n      <td>10709944</td>\n      <td>&lt;NA&gt;</td>\n      <td>[Chuansheng Chen, Magnus Egerstedt, Martin Mai...</td>\n      <td>[PPR-10460544, PPR-10430995, PPR-10437645, PPR...</td>\n      <td>[robotics, cybersecurity, cognitive science, m...</td>\n    </tr>\n    <tr>\n      <th>15682</th>\n      <td>PPR-10458994</td>\n      <td>Networked Graphics - Building Networked Games ...</td>\n      <td>Abstract</td>\n      <td>2009</td>\n      <td>10652323</td>\n      <td>[10934896]</td>\n      <td>[Daniel Ménard, Bo Wang 0020, Antonino Sferlazza]</td>\n      <td>[PPR-10458558, PPR-10456978, PPR-33087, PPR-10...</td>\n      <td>[renewable energy, smart cities, 3D printing, ...</td>\n    </tr>\n  </tbody>\n</table>\n<p>6606 rows × 9 columns</p>\n</div>"
     },
     "execution_count": 542,
     "metadata": {},
     "output_type": "execute_result"
    }
   ],
   "source": [
    "papers_from_proceeding_df"
   ],
   "metadata": {
    "collapsed": false,
    "ExecuteTime": {
     "end_time": "2024-04-10T15:39:29.197199Z",
     "start_time": "2024-04-10T15:39:29.172915Z"
    }
   },
   "id": "f0afc1d183702994",
   "execution_count": 542
  },
  {
   "cell_type": "code",
   "outputs": [],
   "source": [
    "papers_from_proceeding_authors_set = collect_values_to_set(papers_from_proceeding_df, 'authors').intersection(set(authors_prep_df['full_name']))\n",
    "papers_from_journal_authors_set = collect_values_to_set(papers_from_journal_df, 'authors').intersection(set(authors_prep_df['full_name']))\n",
    "all_authors = papers_from_proceeding_authors_set.union(papers_from_journal_authors_set)\n",
    "\n",
    "papers_from_proceeding_df = add_columns_from_authors(papers_from_proceeding_df, 'authors', all_authors).drop('authors', axis=1)\n",
    "papers_from_journal_df = add_columns_from_authors(papers_from_journal_df, 'authors', all_authors).drop('authors', axis=1)\n",
    "\n",
    "# limit authors df by all_authors\n",
    "author_nodes_df = authors_prep_df[authors_prep_df['full_name'].isin(all_authors)]"
   ],
   "metadata": {
    "collapsed": false,
    "ExecuteTime": {
     "end_time": "2024-04-10T13:40:06.106578Z",
     "start_time": "2024-04-10T13:38:42.365392Z"
    }
   },
   "id": "9863a46e8c238825",
   "execution_count": 511
  },
  {
   "cell_type": "code",
   "outputs": [],
   "source": [
    "def assign_event_type(df, id_column):\n",
    "    unique_ids = df[id_column].unique()\n",
    "    event_types = np.random.choice(['workshop', 'conference'], size=len(unique_ids))\n",
    "    id_to_event_type = dict(zip(unique_ids, event_types))\n",
    "    return df[id_column].map(id_to_event_type)\n",
    "\n",
    "values = papers_from_proceeding_df['paper_id'].unique().tolist()\n",
    "prep_proceedings_df['paper_id'] = prep_proceedings_df.apply(lambda _: list(np.random.choice(values, size=np.random.randint(2, 7), replace=False)), axis=1)\n",
    "prep_proceedings_df['proceeding_type'] = assign_event_type(prep_proceedings_df, 'proceeding_id')"
   ],
   "metadata": {
    "collapsed": false,
    "ExecuteTime": {
     "end_time": "2024-04-10T13:40:08.617560Z",
     "start_time": "2024-04-10T13:40:06.108361Z"
    }
   },
   "id": "b87da9cb0097be9e",
   "execution_count": 512
  },
  {
   "cell_type": "code",
   "outputs": [],
   "source": [
    "papers_from_journal_df['core_author'] = papers_from_journal_df['core_author'].apply(lambda x: author_to_id_map[x])\n",
    "papers_from_journal_df['co_author'] = papers_from_journal_df['co_author'].apply(lambda x: [author_to_id_map.get(a) for a in x] if x is not pd.NA else pd.NA)\n",
    "papers_from_journal_df['reviewer'] = papers_from_journal_df['reviewer'].apply(lambda x: [author_to_id_map.get(a) for a in x] if x is not pd.NA else pd.NA)\n",
    "papers_from_journal_df['journal_id'] = papers_from_journal_df['journal'].apply(lambda x: journal_to_id_map[x])\n",
    "papers_from_journal_df['volume_id'] = papers_from_journal_df['journal_id'] + '-' + papers_from_journal_df['volume'] + '-' + papers_from_journal_df['year'].astype(str)\n",
    "papers_from_journal_df['keywords'] = [select_random_keywords() for _ in range(len(papers_from_journal_df))]\n",
    "papers_from_journal_df['citation_id'] = add_citations_column(papers_from_journal_df)\n",
    "papers_from_journal_df['abstract'] = \"Abstract text\""
   ],
   "metadata": {
    "collapsed": false,
    "ExecuteTime": {
     "end_time": "2024-04-10T13:40:12.101826Z",
     "start_time": "2024-04-10T13:40:08.641969Z"
    }
   },
   "id": "d47a59d72b851c0b",
   "execution_count": 513
  },
  {
   "cell_type": "code",
   "outputs": [],
   "source": [
    "journals_prep_df = journals_prep_df[journals_prep_df['id'].isin(papers_from_journal_df['journal_id'])]"
   ],
   "metadata": {
    "collapsed": false,
    "ExecuteTime": {
     "end_time": "2024-04-10T13:40:12.109905Z",
     "start_time": "2024-04-10T13:40:12.104440Z"
    }
   },
   "id": "d500e6968165e71d",
   "execution_count": 514
  },
  {
   "cell_type": "code",
   "outputs": [],
   "source": [
    "def generate_editor(df, id_format):\n",
    "    editor_names = [f\"{np.random.choice(first_names)} {np.random.choice(last_names)}\" for _ in range(len(df))]\n",
    "    editor_ids = [id_format.format(i) for i in range(1, len(df) + 1)]\n",
    "    \n",
    "    editors_df = pd.DataFrame({'editor_id': editor_ids, 'editor_name': editor_names})\n",
    "    \n",
    "    return editor_ids, editors_df\n",
    "\n",
    "journals_prep_df['editor_id'], editor_nodes_df = generate_editor(journals_prep_df, 'ED_{:06d}')"
   ],
   "metadata": {
    "collapsed": false,
    "ExecuteTime": {
     "end_time": "2024-04-10T13:40:12.137297Z",
     "start_time": "2024-04-10T13:40:12.114079Z"
    }
   },
   "id": "33da420abdfd509f",
   "execution_count": 515
  },
  {
   "cell_type": "code",
   "outputs": [
    {
     "data": {
      "text/plain": "           paper_id                                              title  \\\n17817  PPR-10461382  Security Patterns - Integrating Security and S...   \n4991   PPR-10429543                 From Genomic to Functional models.   \n1257      PPR-34349              Multiple Fuzzy Classification Systems   \n11794  PPR-10454641  Computational Rhythm Description - a Review an...   \n11366  PPR-10454173  Mobile Computing - Grundlagen, Technik, Konzepte.   \n...             ...                                                ...   \n17732  PPR-10461291                     Computational Matrix Analysis.   \n7084   PPR-10436584                                    Convex Analysis   \n7933   PPR-10439061  Introduction to Functional Differential Equations   \n5493   PPR-10430045  Une contribution à l'allocation des ressources...   \n15682  PPR-10458994  Networked Graphics - Building Networked Games ...   \n\n       abstract core_author                                 co_author  \\\n17817  Abstract    10755193  [14002639, 11040723, 10626027, 11517468]   \n4991   Abstract    11105548                                      <NA>   \n1257   Abstract    10613895                                      <NA>   \n11794  Abstract    12979937                                      <NA>   \n11366  Abstract    10832144                                      <NA>   \n...         ...         ...                                       ...   \n17732  Abstract    10805568                                      <NA>   \n7084   Abstract    10819748                                      <NA>   \n7933   Abstract    13499553                                [13848719]   \n5493   Abstract    10709944                                      <NA>   \n15682  Abstract    10652323                                [10934896]   \n\n                                             citation_id  \\\n17817  [PPR-10459656, PPR-10452675, PPR-10460568, PPR...   \n4991   [PPR-10457480, PPR-10430299, PPR-10454385, PPR...   \n1257          [PPR-10462870, PPR-10461817, PPR-10459994]   \n11794  [PPR-10454740, PPR-33306, PPR-10454293, PPR-10...   \n11366  [PPR-10457814, PPR-10457116, PPR-10455561, PPR...   \n...                                                  ...   \n17732         [PPR-10452575, PPR-10461111, PPR-10457972]   \n7084          [PPR-10454907, PPR-10461664, PPR-10461070]   \n7933   [PPR-10459866, PPR-10430373, PPR-10462943, PPR...   \n5493   [PPR-10460544, PPR-10430995, PPR-10437645, PPR...   \n15682  [PPR-10458558, PPR-10456978, PPR-33087, PPR-10...   \n\n                                                keywords  \n17817  [quantum computing, astrophysics, clean techno...  \n4991   [ecosystem services, industrial automation, na...  \n1257   [quantum computing, nanotechnology, 3D printin...  \n11794  [data storage, quantum computing, nutrition sc...  \n11366  [astrophysics, artificial intelligence, virtua...  \n...                                                  ...  \n17732  [renewable energy, big data, cancer research, ...  \n7084   [deep learning, quantum mechanics, data queryi...  \n7933   [data analytics, biochemistry, energy storage,...  \n5493   [robotics, cybersecurity, cognitive science, m...  \n15682  [renewable energy, smart cities, 3D printing, ...  \n\n[6606 rows x 7 columns]",
      "text/html": "<div>\n<style scoped>\n    .dataframe tbody tr th:only-of-type {\n        vertical-align: middle;\n    }\n\n    .dataframe tbody tr th {\n        vertical-align: top;\n    }\n\n    .dataframe thead th {\n        text-align: right;\n    }\n</style>\n<table border=\"1\" class=\"dataframe\">\n  <thead>\n    <tr style=\"text-align: right;\">\n      <th></th>\n      <th>paper_id</th>\n      <th>title</th>\n      <th>abstract</th>\n      <th>core_author</th>\n      <th>co_author</th>\n      <th>citation_id</th>\n      <th>keywords</th>\n    </tr>\n  </thead>\n  <tbody>\n    <tr>\n      <th>17817</th>\n      <td>PPR-10461382</td>\n      <td>Security Patterns - Integrating Security and S...</td>\n      <td>Abstract</td>\n      <td>10755193</td>\n      <td>[14002639, 11040723, 10626027, 11517468]</td>\n      <td>[PPR-10459656, PPR-10452675, PPR-10460568, PPR...</td>\n      <td>[quantum computing, astrophysics, clean techno...</td>\n    </tr>\n    <tr>\n      <th>4991</th>\n      <td>PPR-10429543</td>\n      <td>From Genomic to Functional models.</td>\n      <td>Abstract</td>\n      <td>11105548</td>\n      <td>&lt;NA&gt;</td>\n      <td>[PPR-10457480, PPR-10430299, PPR-10454385, PPR...</td>\n      <td>[ecosystem services, industrial automation, na...</td>\n    </tr>\n    <tr>\n      <th>1257</th>\n      <td>PPR-34349</td>\n      <td>Multiple Fuzzy Classification Systems</td>\n      <td>Abstract</td>\n      <td>10613895</td>\n      <td>&lt;NA&gt;</td>\n      <td>[PPR-10462870, PPR-10461817, PPR-10459994]</td>\n      <td>[quantum computing, nanotechnology, 3D printin...</td>\n    </tr>\n    <tr>\n      <th>11794</th>\n      <td>PPR-10454641</td>\n      <td>Computational Rhythm Description - a Review an...</td>\n      <td>Abstract</td>\n      <td>12979937</td>\n      <td>&lt;NA&gt;</td>\n      <td>[PPR-10454740, PPR-33306, PPR-10454293, PPR-10...</td>\n      <td>[data storage, quantum computing, nutrition sc...</td>\n    </tr>\n    <tr>\n      <th>11366</th>\n      <td>PPR-10454173</td>\n      <td>Mobile Computing - Grundlagen, Technik, Konzepte.</td>\n      <td>Abstract</td>\n      <td>10832144</td>\n      <td>&lt;NA&gt;</td>\n      <td>[PPR-10457814, PPR-10457116, PPR-10455561, PPR...</td>\n      <td>[astrophysics, artificial intelligence, virtua...</td>\n    </tr>\n    <tr>\n      <th>...</th>\n      <td>...</td>\n      <td>...</td>\n      <td>...</td>\n      <td>...</td>\n      <td>...</td>\n      <td>...</td>\n      <td>...</td>\n    </tr>\n    <tr>\n      <th>17732</th>\n      <td>PPR-10461291</td>\n      <td>Computational Matrix Analysis.</td>\n      <td>Abstract</td>\n      <td>10805568</td>\n      <td>&lt;NA&gt;</td>\n      <td>[PPR-10452575, PPR-10461111, PPR-10457972]</td>\n      <td>[renewable energy, big data, cancer research, ...</td>\n    </tr>\n    <tr>\n      <th>7084</th>\n      <td>PPR-10436584</td>\n      <td>Convex Analysis</td>\n      <td>Abstract</td>\n      <td>10819748</td>\n      <td>&lt;NA&gt;</td>\n      <td>[PPR-10454907, PPR-10461664, PPR-10461070]</td>\n      <td>[deep learning, quantum mechanics, data queryi...</td>\n    </tr>\n    <tr>\n      <th>7933</th>\n      <td>PPR-10439061</td>\n      <td>Introduction to Functional Differential Equations</td>\n      <td>Abstract</td>\n      <td>13499553</td>\n      <td>[13848719]</td>\n      <td>[PPR-10459866, PPR-10430373, PPR-10462943, PPR...</td>\n      <td>[data analytics, biochemistry, energy storage,...</td>\n    </tr>\n    <tr>\n      <th>5493</th>\n      <td>PPR-10430045</td>\n      <td>Une contribution à l'allocation des ressources...</td>\n      <td>Abstract</td>\n      <td>10709944</td>\n      <td>&lt;NA&gt;</td>\n      <td>[PPR-10460544, PPR-10430995, PPR-10437645, PPR...</td>\n      <td>[robotics, cybersecurity, cognitive science, m...</td>\n    </tr>\n    <tr>\n      <th>15682</th>\n      <td>PPR-10458994</td>\n      <td>Networked Graphics - Building Networked Games ...</td>\n      <td>Abstract</td>\n      <td>10652323</td>\n      <td>[10934896]</td>\n      <td>[PPR-10458558, PPR-10456978, PPR-33087, PPR-10...</td>\n      <td>[renewable energy, smart cities, 3D printing, ...</td>\n    </tr>\n  </tbody>\n</table>\n<p>6606 rows × 7 columns</p>\n</div>"
     },
     "execution_count": 516,
     "metadata": {},
     "output_type": "execute_result"
    }
   ],
   "source": [
    "proceeding_prep_df"
   ],
   "metadata": {
    "collapsed": false,
    "ExecuteTime": {
     "end_time": "2024-04-10T13:40:12.146679Z",
     "start_time": "2024-04-10T13:40:12.142900Z"
    }
   },
   "id": "75a555906506e42c",
   "execution_count": 516
  },
  {
   "cell_type": "code",
   "outputs": [
    {
     "data": {
      "text/plain": "      proceeding_id   chairman                         name edition_date  \\\n2338      PR-000001  CH-000001                     Springer   2023-01-18   \n36675     PR-000001  CH-000004                     Springer   2020-11-19   \n2477      PR-000005  CH-000007  Universitäsbibliothek Essen   2019-07-03   \n7671      PR-000001  CH-000008                     Springer   2019-05-14   \n4270      PR-000001  CH-000009                     Springer   2019-05-14   \n...             ...        ...                          ...          ...   \n41807     PR-000010  CH-004351                     Elsevier   2022-11-22   \n51719     PR-000001  CH-000100                     Springer   2019-07-02   \n22747     PR-000010  CH-001852                     Elsevier   2022-11-25   \n10564     PR-000001  CH-004353                     Springer   2019-08-22   \n35403     PR-000008  CH-004336                  CEUR-WS.org   2023-03-10   \n\n            edition_id edition_city  \\\n2338   PR-000001-13392    Charlotte   \n36675    PR-000001-398    Baltimore   \n2477      PR-000005-14      Beijing   \n7671    PR-000001-3717        Lagos   \n4270    PR-000001-4048        Tulsa   \n...                ...          ...   \n41807    PR-000010-303      Kolkata   \n51719  PR-000001-11621       Denver   \n22747    PR-000010-283        Tokyo   \n10564  PR-000001-11776        Miami   \n35403   PR-000008-1164        Cairo   \n\n                                                paper_id proceeding_type  \n2338   [PPR-10436203, PPR-10458199, PPR-10455000, PPR...        workshop  \n36675                       [PPR-10460955, PPR-10459975]        workshop  \n2477   [PPR-10429137, PPR-32837, PPR-10462380, PPR-10...      conference  \n7671   [PPR-10442196, PPR-10457668, PPR-10462377, PPR...        workshop  \n4270          [PPR-10462783, PPR-10458813, PPR-10460105]        workshop  \n...                                                  ...             ...  \n41807                       [PPR-10456761, PPR-10442034]      conference  \n51719         [PPR-10456509, PPR-10453868, PPR-10431102]        workshop  \n22747  [PPR-10455313, PPR-49620, PPR-10456199, PPR-10...      conference  \n10564  [PPR-10461458, PPR-10461860, PPR-10462772, PPR...        workshop  \n35403            [PPR-10446792, PPR-39655, PPR-10430527]      conference  \n\n[3117 rows x 8 columns]",
      "text/html": "<div>\n<style scoped>\n    .dataframe tbody tr th:only-of-type {\n        vertical-align: middle;\n    }\n\n    .dataframe tbody tr th {\n        vertical-align: top;\n    }\n\n    .dataframe thead th {\n        text-align: right;\n    }\n</style>\n<table border=\"1\" class=\"dataframe\">\n  <thead>\n    <tr style=\"text-align: right;\">\n      <th></th>\n      <th>proceeding_id</th>\n      <th>chairman</th>\n      <th>name</th>\n      <th>edition_date</th>\n      <th>edition_id</th>\n      <th>edition_city</th>\n      <th>paper_id</th>\n      <th>proceeding_type</th>\n    </tr>\n  </thead>\n  <tbody>\n    <tr>\n      <th>2338</th>\n      <td>PR-000001</td>\n      <td>CH-000001</td>\n      <td>Springer</td>\n      <td>2023-01-18</td>\n      <td>PR-000001-13392</td>\n      <td>Charlotte</td>\n      <td>[PPR-10436203, PPR-10458199, PPR-10455000, PPR...</td>\n      <td>workshop</td>\n    </tr>\n    <tr>\n      <th>36675</th>\n      <td>PR-000001</td>\n      <td>CH-000004</td>\n      <td>Springer</td>\n      <td>2020-11-19</td>\n      <td>PR-000001-398</td>\n      <td>Baltimore</td>\n      <td>[PPR-10460955, PPR-10459975]</td>\n      <td>workshop</td>\n    </tr>\n    <tr>\n      <th>2477</th>\n      <td>PR-000005</td>\n      <td>CH-000007</td>\n      <td>Universitäsbibliothek Essen</td>\n      <td>2019-07-03</td>\n      <td>PR-000005-14</td>\n      <td>Beijing</td>\n      <td>[PPR-10429137, PPR-32837, PPR-10462380, PPR-10...</td>\n      <td>conference</td>\n    </tr>\n    <tr>\n      <th>7671</th>\n      <td>PR-000001</td>\n      <td>CH-000008</td>\n      <td>Springer</td>\n      <td>2019-05-14</td>\n      <td>PR-000001-3717</td>\n      <td>Lagos</td>\n      <td>[PPR-10442196, PPR-10457668, PPR-10462377, PPR...</td>\n      <td>workshop</td>\n    </tr>\n    <tr>\n      <th>4270</th>\n      <td>PR-000001</td>\n      <td>CH-000009</td>\n      <td>Springer</td>\n      <td>2019-05-14</td>\n      <td>PR-000001-4048</td>\n      <td>Tulsa</td>\n      <td>[PPR-10462783, PPR-10458813, PPR-10460105]</td>\n      <td>workshop</td>\n    </tr>\n    <tr>\n      <th>...</th>\n      <td>...</td>\n      <td>...</td>\n      <td>...</td>\n      <td>...</td>\n      <td>...</td>\n      <td>...</td>\n      <td>...</td>\n      <td>...</td>\n    </tr>\n    <tr>\n      <th>41807</th>\n      <td>PR-000010</td>\n      <td>CH-004351</td>\n      <td>Elsevier</td>\n      <td>2022-11-22</td>\n      <td>PR-000010-303</td>\n      <td>Kolkata</td>\n      <td>[PPR-10456761, PPR-10442034]</td>\n      <td>conference</td>\n    </tr>\n    <tr>\n      <th>51719</th>\n      <td>PR-000001</td>\n      <td>CH-000100</td>\n      <td>Springer</td>\n      <td>2019-07-02</td>\n      <td>PR-000001-11621</td>\n      <td>Denver</td>\n      <td>[PPR-10456509, PPR-10453868, PPR-10431102]</td>\n      <td>workshop</td>\n    </tr>\n    <tr>\n      <th>22747</th>\n      <td>PR-000010</td>\n      <td>CH-001852</td>\n      <td>Elsevier</td>\n      <td>2022-11-25</td>\n      <td>PR-000010-283</td>\n      <td>Tokyo</td>\n      <td>[PPR-10455313, PPR-49620, PPR-10456199, PPR-10...</td>\n      <td>conference</td>\n    </tr>\n    <tr>\n      <th>10564</th>\n      <td>PR-000001</td>\n      <td>CH-004353</td>\n      <td>Springer</td>\n      <td>2019-08-22</td>\n      <td>PR-000001-11776</td>\n      <td>Miami</td>\n      <td>[PPR-10461458, PPR-10461860, PPR-10462772, PPR...</td>\n      <td>workshop</td>\n    </tr>\n    <tr>\n      <th>35403</th>\n      <td>PR-000008</td>\n      <td>CH-004336</td>\n      <td>CEUR-WS.org</td>\n      <td>2023-03-10</td>\n      <td>PR-000008-1164</td>\n      <td>Cairo</td>\n      <td>[PPR-10446792, PPR-39655, PPR-10430527]</td>\n      <td>conference</td>\n    </tr>\n  </tbody>\n</table>\n<p>3117 rows × 8 columns</p>\n</div>"
     },
     "execution_count": 517,
     "metadata": {},
     "output_type": "execute_result"
    }
   ],
   "source": [
    "prep_proceedings_df"
   ],
   "metadata": {
    "collapsed": false,
    "ExecuteTime": {
     "end_time": "2024-04-10T13:40:12.154743Z",
     "start_time": "2024-04-10T13:40:12.150019Z"
    }
   },
   "id": "b5e8c713cd62f147",
   "execution_count": 517
  },
  {
   "cell_type": "code",
   "outputs": [
    {
     "data": {
      "text/plain": "         paper_id                            journal        date  \\\n2784723   9785958                           Complex.  2021-04-29   \n3059211  10062207                               CoRR  2020-03-10   \n1222888   8222501  IEEE Trans. Geosci. Remote. Sens.  2023-09-24   \n1610349   8610901                        IEEE Access  2023-09-30   \n855916    7853440                 Games Econ. Behav.  2020-02-22   \n...           ...                                ...         ...   \n2192295   9193003                                RFC  2019-05-14   \n2305004   9305728                 Expert Syst. Appl.  2022-12-05   \n2556321   9557307                           Computer  2023-08-28   \n1951317   8952008           Z. für Medienpsychologie  2020-05-13   \n105222    7102334         IEEE Robotics Autom. Lett.  2023-03-11   \n\n                                                     title          volume  \\\n2784723  Finite-Time Lyapunov Functions and Impulsive C...            2020   \n3059211  Stability and error estimates for the variable...  abs/2003.03534   \n1222888  Remote-Sensing Interpretation for Soil Element...              61   \n1610349  Bounds on Topological Descriptors of the Coron...               7   \n855916   Agenda control as a cheap talk game: Theory an...              72   \n...                                                    ...             ...   \n2192295                         IPv6 over Social Networks.            5514   \n2305004  FacialSCDnet: A deep learning approach for the...             210   \n2556321                      Fifteen Years to Open Source.              49   \n1951317                                 Verkaufsstart von               17   \n105222   Gyro-Net: IMU Gyroscopes Random Errors Compens...               8   \n\n         year core_author                                          co_author  \\\n2784723  2020    10812532                                         [10922620]   \n3059211  2020    13673279                               [13145331, 10708795]   \n1222888  2023    14100535  [10976001, 11056861, 10603499, 10685983, 10962...   \n1610349  2019    13198705  [13517777, 13945265, 11336081, 11478170, 11138...   \n855916   2011    11769534                                               <NA>   \n...       ...         ...                                                ...   \n2192295  2009    10857529                                               <NA>   \n2305004  2022    10605666  [10605667, 10609484, 12565452, 10609498, 10609...   \n2556321  2016    10600693                                               <NA>   \n1951317  2005    11254670                                               <NA>   \n105222   2023    11061707           [10880258, 10676878, 11352408, 11275236]   \n\n                                                  reviewer journal_id  \\\n2784723  [12363059, 10976860, 11026952, 10626394, 11973...   14156835   \n3059211                               [10832418, 10856913]   14156859   \n1222888                               [11300592, 10672159]   14155794   \n1610349                     [12101728, 10819700, 11220473]   14156045   \n855916                      [13639285, 12986876, 10723498]   14155560   \n...                                                    ...        ...   \n2192295                     [13627705, 13939134, 12121301]   14156403   \n2305004                               [10655099, 11155077]   14156486   \n2556321           [11246708, 11293777, 10999501, 12190126]   14156679   \n1951317                     [10939793, 10728935, 11599617]   14156217   \n105222                                [13210892, 11251651]   14154963   \n\n                            volume_id  \\\n2784723            14156835-2020-2020   \n3059211  14156859-abs/2003.03534-2020   \n1222888              14155794-61-2023   \n1610349               14156045-7-2019   \n855916               14155560-72-2011   \n...                               ...   \n2192295            14156403-5514-2009   \n2305004             14156486-210-2022   \n2556321              14156679-49-2016   \n1951317              14156217-17-2005   \n105222                14154963-8-2023   \n\n                                                  keywords  \\\n2784723  [sociology, CRISPR, deep learning, machine eth...   \n3059211  [oceanography, neural networks, wearable techn...   \n1222888  [deep learning, indexing, sociology, renewable...   \n1610349  [machine learning, clean technology, renewable...   \n855916   [epidemiology, data processing, neural network...   \n...                                                    ...   \n2192295  [cybersecurity, political science, drug discov...   \n2305004  [cloud computing, cognitive science, augmented...   \n2556321  [nutrition science, space exploration, digital...   \n1951317  [cybersecurity, organic chemistry, air polluti...   \n105222   [cybersecurity, neuroscience, material science...   \n\n                                           citation_id       abstract  \n2784723          [7696533, 9393366, 10165031, 9763089]  Abstract text  \n3059211  [7487874, 7434692, 7178519, 8966880, 7817648]  Abstract text  \n1222888                    [9005504, 7807650, 8871217]  Abstract text  \n1610349           [9571257, 8551761, 7382165, 9388226]  Abstract text  \n855916   [8770264, 7475319, 7109740, 9344030, 8310635]  Abstract text  \n...                                                ...            ...  \n2192295                   [7270955, 10128650, 8417591]  Abstract text  \n2305004  [7280349, 8839855, 9216237, 7757715, 8565677]  Abstract text  \n2556321                    [8383771, 7910156, 8460091]  Abstract text  \n1951317           [7585647, 9223617, 7550847, 8966880]  Abstract text  \n105222           [8965118, 8348809, 8646211, 10254825]  Abstract text  \n\n[7430 rows x 14 columns]",
      "text/html": "<div>\n<style scoped>\n    .dataframe tbody tr th:only-of-type {\n        vertical-align: middle;\n    }\n\n    .dataframe tbody tr th {\n        vertical-align: top;\n    }\n\n    .dataframe thead th {\n        text-align: right;\n    }\n</style>\n<table border=\"1\" class=\"dataframe\">\n  <thead>\n    <tr style=\"text-align: right;\">\n      <th></th>\n      <th>paper_id</th>\n      <th>journal</th>\n      <th>date</th>\n      <th>title</th>\n      <th>volume</th>\n      <th>year</th>\n      <th>core_author</th>\n      <th>co_author</th>\n      <th>reviewer</th>\n      <th>journal_id</th>\n      <th>volume_id</th>\n      <th>keywords</th>\n      <th>citation_id</th>\n      <th>abstract</th>\n    </tr>\n  </thead>\n  <tbody>\n    <tr>\n      <th>2784723</th>\n      <td>9785958</td>\n      <td>Complex.</td>\n      <td>2021-04-29</td>\n      <td>Finite-Time Lyapunov Functions and Impulsive C...</td>\n      <td>2020</td>\n      <td>2020</td>\n      <td>10812532</td>\n      <td>[10922620]</td>\n      <td>[12363059, 10976860, 11026952, 10626394, 11973...</td>\n      <td>14156835</td>\n      <td>14156835-2020-2020</td>\n      <td>[sociology, CRISPR, deep learning, machine eth...</td>\n      <td>[7696533, 9393366, 10165031, 9763089]</td>\n      <td>Abstract text</td>\n    </tr>\n    <tr>\n      <th>3059211</th>\n      <td>10062207</td>\n      <td>CoRR</td>\n      <td>2020-03-10</td>\n      <td>Stability and error estimates for the variable...</td>\n      <td>abs/2003.03534</td>\n      <td>2020</td>\n      <td>13673279</td>\n      <td>[13145331, 10708795]</td>\n      <td>[10832418, 10856913]</td>\n      <td>14156859</td>\n      <td>14156859-abs/2003.03534-2020</td>\n      <td>[oceanography, neural networks, wearable techn...</td>\n      <td>[7487874, 7434692, 7178519, 8966880, 7817648]</td>\n      <td>Abstract text</td>\n    </tr>\n    <tr>\n      <th>1222888</th>\n      <td>8222501</td>\n      <td>IEEE Trans. Geosci. Remote. Sens.</td>\n      <td>2023-09-24</td>\n      <td>Remote-Sensing Interpretation for Soil Element...</td>\n      <td>61</td>\n      <td>2023</td>\n      <td>14100535</td>\n      <td>[10976001, 11056861, 10603499, 10685983, 10962...</td>\n      <td>[11300592, 10672159]</td>\n      <td>14155794</td>\n      <td>14155794-61-2023</td>\n      <td>[deep learning, indexing, sociology, renewable...</td>\n      <td>[9005504, 7807650, 8871217]</td>\n      <td>Abstract text</td>\n    </tr>\n    <tr>\n      <th>1610349</th>\n      <td>8610901</td>\n      <td>IEEE Access</td>\n      <td>2023-09-30</td>\n      <td>Bounds on Topological Descriptors of the Coron...</td>\n      <td>7</td>\n      <td>2019</td>\n      <td>13198705</td>\n      <td>[13517777, 13945265, 11336081, 11478170, 11138...</td>\n      <td>[12101728, 10819700, 11220473]</td>\n      <td>14156045</td>\n      <td>14156045-7-2019</td>\n      <td>[machine learning, clean technology, renewable...</td>\n      <td>[9571257, 8551761, 7382165, 9388226]</td>\n      <td>Abstract text</td>\n    </tr>\n    <tr>\n      <th>855916</th>\n      <td>7853440</td>\n      <td>Games Econ. Behav.</td>\n      <td>2020-02-22</td>\n      <td>Agenda control as a cheap talk game: Theory an...</td>\n      <td>72</td>\n      <td>2011</td>\n      <td>11769534</td>\n      <td>&lt;NA&gt;</td>\n      <td>[13639285, 12986876, 10723498]</td>\n      <td>14155560</td>\n      <td>14155560-72-2011</td>\n      <td>[epidemiology, data processing, neural network...</td>\n      <td>[8770264, 7475319, 7109740, 9344030, 8310635]</td>\n      <td>Abstract text</td>\n    </tr>\n    <tr>\n      <th>...</th>\n      <td>...</td>\n      <td>...</td>\n      <td>...</td>\n      <td>...</td>\n      <td>...</td>\n      <td>...</td>\n      <td>...</td>\n      <td>...</td>\n      <td>...</td>\n      <td>...</td>\n      <td>...</td>\n      <td>...</td>\n      <td>...</td>\n      <td>...</td>\n    </tr>\n    <tr>\n      <th>2192295</th>\n      <td>9193003</td>\n      <td>RFC</td>\n      <td>2019-05-14</td>\n      <td>IPv6 over Social Networks.</td>\n      <td>5514</td>\n      <td>2009</td>\n      <td>10857529</td>\n      <td>&lt;NA&gt;</td>\n      <td>[13627705, 13939134, 12121301]</td>\n      <td>14156403</td>\n      <td>14156403-5514-2009</td>\n      <td>[cybersecurity, political science, drug discov...</td>\n      <td>[7270955, 10128650, 8417591]</td>\n      <td>Abstract text</td>\n    </tr>\n    <tr>\n      <th>2305004</th>\n      <td>9305728</td>\n      <td>Expert Syst. Appl.</td>\n      <td>2022-12-05</td>\n      <td>FacialSCDnet: A deep learning approach for the...</td>\n      <td>210</td>\n      <td>2022</td>\n      <td>10605666</td>\n      <td>[10605667, 10609484, 12565452, 10609498, 10609...</td>\n      <td>[10655099, 11155077]</td>\n      <td>14156486</td>\n      <td>14156486-210-2022</td>\n      <td>[cloud computing, cognitive science, augmented...</td>\n      <td>[7280349, 8839855, 9216237, 7757715, 8565677]</td>\n      <td>Abstract text</td>\n    </tr>\n    <tr>\n      <th>2556321</th>\n      <td>9557307</td>\n      <td>Computer</td>\n      <td>2023-08-28</td>\n      <td>Fifteen Years to Open Source.</td>\n      <td>49</td>\n      <td>2016</td>\n      <td>10600693</td>\n      <td>&lt;NA&gt;</td>\n      <td>[11246708, 11293777, 10999501, 12190126]</td>\n      <td>14156679</td>\n      <td>14156679-49-2016</td>\n      <td>[nutrition science, space exploration, digital...</td>\n      <td>[8383771, 7910156, 8460091]</td>\n      <td>Abstract text</td>\n    </tr>\n    <tr>\n      <th>1951317</th>\n      <td>8952008</td>\n      <td>Z. für Medienpsychologie</td>\n      <td>2020-05-13</td>\n      <td>Verkaufsstart von</td>\n      <td>17</td>\n      <td>2005</td>\n      <td>11254670</td>\n      <td>&lt;NA&gt;</td>\n      <td>[10939793, 10728935, 11599617]</td>\n      <td>14156217</td>\n      <td>14156217-17-2005</td>\n      <td>[cybersecurity, organic chemistry, air polluti...</td>\n      <td>[7585647, 9223617, 7550847, 8966880]</td>\n      <td>Abstract text</td>\n    </tr>\n    <tr>\n      <th>105222</th>\n      <td>7102334</td>\n      <td>IEEE Robotics Autom. Lett.</td>\n      <td>2023-03-11</td>\n      <td>Gyro-Net: IMU Gyroscopes Random Errors Compens...</td>\n      <td>8</td>\n      <td>2023</td>\n      <td>11061707</td>\n      <td>[10880258, 10676878, 11352408, 11275236]</td>\n      <td>[13210892, 11251651]</td>\n      <td>14154963</td>\n      <td>14154963-8-2023</td>\n      <td>[cybersecurity, neuroscience, material science...</td>\n      <td>[8965118, 8348809, 8646211, 10254825]</td>\n      <td>Abstract text</td>\n    </tr>\n  </tbody>\n</table>\n<p>7430 rows × 14 columns</p>\n</div>"
     },
     "execution_count": 518,
     "metadata": {},
     "output_type": "execute_result"
    }
   ],
   "source": [
    "papers_from_journal_df"
   ],
   "metadata": {
    "collapsed": false,
    "ExecuteTime": {
     "end_time": "2024-04-10T13:40:12.171757Z",
     "start_time": "2024-04-10T13:40:12.159890Z"
    }
   },
   "id": "e8a287837e3d2825",
   "execution_count": 518
  },
  {
   "cell_type": "code",
   "outputs": [
    {
     "data": {
      "text/plain": "           paper_id                                              title  \\\n17817  PPR-10461382  Security Patterns - Integrating Security and S...   \n4991   PPR-10429543                 From Genomic to Functional models.   \n1257      PPR-34349              Multiple Fuzzy Classification Systems   \n11794  PPR-10454641  Computational Rhythm Description - a Review an...   \n11366  PPR-10454173  Mobile Computing - Grundlagen, Technik, Konzepte.   \n...             ...                                                ...   \n17732  PPR-10461291                     Computational Matrix Analysis.   \n7084   PPR-10436584                                    Convex Analysis   \n7933   PPR-10439061  Introduction to Functional Differential Equations   \n5493   PPR-10430045  Une contribution à l'allocation des ressources...   \n15682  PPR-10458994  Networked Graphics - Building Networked Games ...   \n\n       abstract  year core_author                                 co_author  \\\n17817  Abstract  2005    10755193  [14002639, 11040723, 10626027, 11517468]   \n4991   Abstract  2009    11105548                                      <NA>   \n1257   Abstract  2012    10613895                                      <NA>   \n11794  Abstract  2008    12979937                                      <NA>   \n11366  Abstract  2002    10832144                                      <NA>   \n...         ...   ...         ...                                       ...   \n17732  Abstract  2012    10805568                                      <NA>   \n7084   Abstract  1970    10819748                                      <NA>   \n7933   Abstract  1993    13499553                                [13848719]   \n5493   Abstract  2014    10709944                                      <NA>   \n15682  Abstract  2009    10652323                                [10934896]   \n\n                                                reviewer  \\\n17817                                   [Dylan P. Losey]   \n4991          [Tingyang Xu, Yunzhan Zhou, Darya Klyamer]   \n1257   [Imed Romdhani, Wenkai Zhang, Paolo Bientinesi...   \n11794           [Xiaofei Wang, Glen Kramer, Atta Oveisi]   \n11366  [Ranjan K. Mallik, Seok-Lyong Lee, Michael Rob...   \n...                                                  ...   \n17732     [Chanchal K. Roy, Baocang Ding, Ravi G. Patel]   \n7084                                   [Andrea Albright]   \n7933      [Xiangbo Shu, Shotaro Kataoka, Yongxuan Zhang]   \n5493   [Chuansheng Chen, Magnus Egerstedt, Martin Mai...   \n15682  [Daniel Ménard, Bo Wang 0020, Antonino Sferlazza]   \n\n                                             citation_id  \\\n17817  [PPR-10459656, PPR-10452675, PPR-10460568, PPR...   \n4991   [PPR-10457480, PPR-10430299, PPR-10454385, PPR...   \n1257          [PPR-10462870, PPR-10461817, PPR-10459994]   \n11794  [PPR-10454740, PPR-33306, PPR-10454293, PPR-10...   \n11366  [PPR-10457814, PPR-10457116, PPR-10455561, PPR...   \n...                                                  ...   \n17732         [PPR-10452575, PPR-10461111, PPR-10457972]   \n7084          [PPR-10454907, PPR-10461664, PPR-10461070]   \n7933   [PPR-10459866, PPR-10430373, PPR-10462943, PPR...   \n5493   [PPR-10460544, PPR-10430995, PPR-10437645, PPR...   \n15682  [PPR-10458558, PPR-10456978, PPR-33087, PPR-10...   \n\n                                                keywords  \n17817  [quantum computing, astrophysics, clean techno...  \n4991   [ecosystem services, industrial automation, na...  \n1257   [quantum computing, nanotechnology, 3D printin...  \n11794  [data storage, quantum computing, nutrition sc...  \n11366  [astrophysics, artificial intelligence, virtua...  \n...                                                  ...  \n17732  [renewable energy, big data, cancer research, ...  \n7084   [deep learning, quantum mechanics, data queryi...  \n7933   [data analytics, biochemistry, energy storage,...  \n5493   [robotics, cybersecurity, cognitive science, m...  \n15682  [renewable energy, smart cities, 3D printing, ...  \n\n[6606 rows x 9 columns]",
      "text/html": "<div>\n<style scoped>\n    .dataframe tbody tr th:only-of-type {\n        vertical-align: middle;\n    }\n\n    .dataframe tbody tr th {\n        vertical-align: top;\n    }\n\n    .dataframe thead th {\n        text-align: right;\n    }\n</style>\n<table border=\"1\" class=\"dataframe\">\n  <thead>\n    <tr style=\"text-align: right;\">\n      <th></th>\n      <th>paper_id</th>\n      <th>title</th>\n      <th>abstract</th>\n      <th>year</th>\n      <th>core_author</th>\n      <th>co_author</th>\n      <th>reviewer</th>\n      <th>citation_id</th>\n      <th>keywords</th>\n    </tr>\n  </thead>\n  <tbody>\n    <tr>\n      <th>17817</th>\n      <td>PPR-10461382</td>\n      <td>Security Patterns - Integrating Security and S...</td>\n      <td>Abstract</td>\n      <td>2005</td>\n      <td>10755193</td>\n      <td>[14002639, 11040723, 10626027, 11517468]</td>\n      <td>[Dylan P. Losey]</td>\n      <td>[PPR-10459656, PPR-10452675, PPR-10460568, PPR...</td>\n      <td>[quantum computing, astrophysics, clean techno...</td>\n    </tr>\n    <tr>\n      <th>4991</th>\n      <td>PPR-10429543</td>\n      <td>From Genomic to Functional models.</td>\n      <td>Abstract</td>\n      <td>2009</td>\n      <td>11105548</td>\n      <td>&lt;NA&gt;</td>\n      <td>[Tingyang Xu, Yunzhan Zhou, Darya Klyamer]</td>\n      <td>[PPR-10457480, PPR-10430299, PPR-10454385, PPR...</td>\n      <td>[ecosystem services, industrial automation, na...</td>\n    </tr>\n    <tr>\n      <th>1257</th>\n      <td>PPR-34349</td>\n      <td>Multiple Fuzzy Classification Systems</td>\n      <td>Abstract</td>\n      <td>2012</td>\n      <td>10613895</td>\n      <td>&lt;NA&gt;</td>\n      <td>[Imed Romdhani, Wenkai Zhang, Paolo Bientinesi...</td>\n      <td>[PPR-10462870, PPR-10461817, PPR-10459994]</td>\n      <td>[quantum computing, nanotechnology, 3D printin...</td>\n    </tr>\n    <tr>\n      <th>11794</th>\n      <td>PPR-10454641</td>\n      <td>Computational Rhythm Description - a Review an...</td>\n      <td>Abstract</td>\n      <td>2008</td>\n      <td>12979937</td>\n      <td>&lt;NA&gt;</td>\n      <td>[Xiaofei Wang, Glen Kramer, Atta Oveisi]</td>\n      <td>[PPR-10454740, PPR-33306, PPR-10454293, PPR-10...</td>\n      <td>[data storage, quantum computing, nutrition sc...</td>\n    </tr>\n    <tr>\n      <th>11366</th>\n      <td>PPR-10454173</td>\n      <td>Mobile Computing - Grundlagen, Technik, Konzepte.</td>\n      <td>Abstract</td>\n      <td>2002</td>\n      <td>10832144</td>\n      <td>&lt;NA&gt;</td>\n      <td>[Ranjan K. Mallik, Seok-Lyong Lee, Michael Rob...</td>\n      <td>[PPR-10457814, PPR-10457116, PPR-10455561, PPR...</td>\n      <td>[astrophysics, artificial intelligence, virtua...</td>\n    </tr>\n    <tr>\n      <th>...</th>\n      <td>...</td>\n      <td>...</td>\n      <td>...</td>\n      <td>...</td>\n      <td>...</td>\n      <td>...</td>\n      <td>...</td>\n      <td>...</td>\n      <td>...</td>\n    </tr>\n    <tr>\n      <th>17732</th>\n      <td>PPR-10461291</td>\n      <td>Computational Matrix Analysis.</td>\n      <td>Abstract</td>\n      <td>2012</td>\n      <td>10805568</td>\n      <td>&lt;NA&gt;</td>\n      <td>[Chanchal K. Roy, Baocang Ding, Ravi G. Patel]</td>\n      <td>[PPR-10452575, PPR-10461111, PPR-10457972]</td>\n      <td>[renewable energy, big data, cancer research, ...</td>\n    </tr>\n    <tr>\n      <th>7084</th>\n      <td>PPR-10436584</td>\n      <td>Convex Analysis</td>\n      <td>Abstract</td>\n      <td>1970</td>\n      <td>10819748</td>\n      <td>&lt;NA&gt;</td>\n      <td>[Andrea Albright]</td>\n      <td>[PPR-10454907, PPR-10461664, PPR-10461070]</td>\n      <td>[deep learning, quantum mechanics, data queryi...</td>\n    </tr>\n    <tr>\n      <th>7933</th>\n      <td>PPR-10439061</td>\n      <td>Introduction to Functional Differential Equations</td>\n      <td>Abstract</td>\n      <td>1993</td>\n      <td>13499553</td>\n      <td>[13848719]</td>\n      <td>[Xiangbo Shu, Shotaro Kataoka, Yongxuan Zhang]</td>\n      <td>[PPR-10459866, PPR-10430373, PPR-10462943, PPR...</td>\n      <td>[data analytics, biochemistry, energy storage,...</td>\n    </tr>\n    <tr>\n      <th>5493</th>\n      <td>PPR-10430045</td>\n      <td>Une contribution à l'allocation des ressources...</td>\n      <td>Abstract</td>\n      <td>2014</td>\n      <td>10709944</td>\n      <td>&lt;NA&gt;</td>\n      <td>[Chuansheng Chen, Magnus Egerstedt, Martin Mai...</td>\n      <td>[PPR-10460544, PPR-10430995, PPR-10437645, PPR...</td>\n      <td>[robotics, cybersecurity, cognitive science, m...</td>\n    </tr>\n    <tr>\n      <th>15682</th>\n      <td>PPR-10458994</td>\n      <td>Networked Graphics - Building Networked Games ...</td>\n      <td>Abstract</td>\n      <td>2009</td>\n      <td>10652323</td>\n      <td>[10934896]</td>\n      <td>[Daniel Ménard, Bo Wang 0020, Antonino Sferlazza]</td>\n      <td>[PPR-10458558, PPR-10456978, PPR-33087, PPR-10...</td>\n      <td>[renewable energy, smart cities, 3D printing, ...</td>\n    </tr>\n  </tbody>\n</table>\n<p>6606 rows × 9 columns</p>\n</div>"
     },
     "execution_count": 519,
     "metadata": {},
     "output_type": "execute_result"
    }
   ],
   "source": [
    "papers_from_proceeding_df"
   ],
   "metadata": {
    "collapsed": false,
    "ExecuteTime": {
     "end_time": "2024-04-10T13:40:12.222653Z",
     "start_time": "2024-04-10T13:40:12.169013Z"
    }
   },
   "id": "bede0ae2754e564",
   "execution_count": 519
  },
  {
   "cell_type": "code",
   "outputs": [
    {
     "data": {
      "text/plain": "0           id                          name  editor_id\n3     14154891                   SIGMOD Rec.  ED_000001\n4     14154892                World Wide Web  ED_000002\n6     14154894             IEEE Trans. Educ.  ED_000003\n7     14154895          Int. J. Neural Syst.  ED_000004\n8     14154896          Comput. Optim. Appl.  ED_000005\n...        ...                           ...        ...\n1986  14156874                Scientometrics  ED_001231\n1988  14156876  Serv. Oriented Comput. Appl.  ED_001232\n1989  14156877                  Netw. Secur.  ED_001233\n1990  14156878        Int. J. Web Inf. Syst.  ED_001234\n1991  14156879            Digit. Humanit. Q.  ED_001235\n\n[1235 rows x 3 columns]",
      "text/html": "<div>\n<style scoped>\n    .dataframe tbody tr th:only-of-type {\n        vertical-align: middle;\n    }\n\n    .dataframe tbody tr th {\n        vertical-align: top;\n    }\n\n    .dataframe thead th {\n        text-align: right;\n    }\n</style>\n<table border=\"1\" class=\"dataframe\">\n  <thead>\n    <tr style=\"text-align: right;\">\n      <th></th>\n      <th>id</th>\n      <th>name</th>\n      <th>editor_id</th>\n    </tr>\n  </thead>\n  <tbody>\n    <tr>\n      <th>3</th>\n      <td>14154891</td>\n      <td>SIGMOD Rec.</td>\n      <td>ED_000001</td>\n    </tr>\n    <tr>\n      <th>4</th>\n      <td>14154892</td>\n      <td>World Wide Web</td>\n      <td>ED_000002</td>\n    </tr>\n    <tr>\n      <th>6</th>\n      <td>14154894</td>\n      <td>IEEE Trans. Educ.</td>\n      <td>ED_000003</td>\n    </tr>\n    <tr>\n      <th>7</th>\n      <td>14154895</td>\n      <td>Int. J. Neural Syst.</td>\n      <td>ED_000004</td>\n    </tr>\n    <tr>\n      <th>8</th>\n      <td>14154896</td>\n      <td>Comput. Optim. Appl.</td>\n      <td>ED_000005</td>\n    </tr>\n    <tr>\n      <th>...</th>\n      <td>...</td>\n      <td>...</td>\n      <td>...</td>\n    </tr>\n    <tr>\n      <th>1986</th>\n      <td>14156874</td>\n      <td>Scientometrics</td>\n      <td>ED_001231</td>\n    </tr>\n    <tr>\n      <th>1988</th>\n      <td>14156876</td>\n      <td>Serv. Oriented Comput. Appl.</td>\n      <td>ED_001232</td>\n    </tr>\n    <tr>\n      <th>1989</th>\n      <td>14156877</td>\n      <td>Netw. Secur.</td>\n      <td>ED_001233</td>\n    </tr>\n    <tr>\n      <th>1990</th>\n      <td>14156878</td>\n      <td>Int. J. Web Inf. Syst.</td>\n      <td>ED_001234</td>\n    </tr>\n    <tr>\n      <th>1991</th>\n      <td>14156879</td>\n      <td>Digit. Humanit. Q.</td>\n      <td>ED_001235</td>\n    </tr>\n  </tbody>\n</table>\n<p>1235 rows × 3 columns</p>\n</div>"
     },
     "execution_count": 520,
     "metadata": {},
     "output_type": "execute_result"
    }
   ],
   "source": [
    "journals_prep_df"
   ],
   "metadata": {
    "collapsed": false,
    "ExecuteTime": {
     "end_time": "2024-04-10T13:40:12.224358Z",
     "start_time": "2024-04-10T13:40:12.174201Z"
    }
   },
   "id": "1c3749121cc3ad32",
   "execution_count": 520
  },
  {
   "cell_type": "code",
   "outputs": [
    {
     "data": {
      "text/plain": "0              id                full_name  birth_date\n4        10597996      Daniel C. Alexander  1988-03-18\n11       10598003           Zhengyou Zhang  1956-03-19\n18       10598010      Szymon Rusinkiewicz  1963-07-27\n19       10598011          Amit K. Agrawal  1973-11-14\n24       10598016        Matti Pietikäinen  1945-04-06\n...           ...                      ...         ...\n3556454  14154446         Kurtulus B. Öner  1988-12-27\n3556547  14154539     António Pais Antunes  1973-04-04\n3556683  14154675  Christoph Hartmann 0003  1975-10-26\n3556806  14154798         Weidong Gao 0001  1978-05-09\n3556835  14154827            Ali Salmasnia  1983-07-04\n\n[23507 rows x 3 columns]",
      "text/html": "<div>\n<style scoped>\n    .dataframe tbody tr th:only-of-type {\n        vertical-align: middle;\n    }\n\n    .dataframe tbody tr th {\n        vertical-align: top;\n    }\n\n    .dataframe thead th {\n        text-align: right;\n    }\n</style>\n<table border=\"1\" class=\"dataframe\">\n  <thead>\n    <tr style=\"text-align: right;\">\n      <th></th>\n      <th>id</th>\n      <th>full_name</th>\n      <th>birth_date</th>\n    </tr>\n  </thead>\n  <tbody>\n    <tr>\n      <th>4</th>\n      <td>10597996</td>\n      <td>Daniel C. Alexander</td>\n      <td>1988-03-18</td>\n    </tr>\n    <tr>\n      <th>11</th>\n      <td>10598003</td>\n      <td>Zhengyou Zhang</td>\n      <td>1956-03-19</td>\n    </tr>\n    <tr>\n      <th>18</th>\n      <td>10598010</td>\n      <td>Szymon Rusinkiewicz</td>\n      <td>1963-07-27</td>\n    </tr>\n    <tr>\n      <th>19</th>\n      <td>10598011</td>\n      <td>Amit K. Agrawal</td>\n      <td>1973-11-14</td>\n    </tr>\n    <tr>\n      <th>24</th>\n      <td>10598016</td>\n      <td>Matti Pietikäinen</td>\n      <td>1945-04-06</td>\n    </tr>\n    <tr>\n      <th>...</th>\n      <td>...</td>\n      <td>...</td>\n      <td>...</td>\n    </tr>\n    <tr>\n      <th>3556454</th>\n      <td>14154446</td>\n      <td>Kurtulus B. Öner</td>\n      <td>1988-12-27</td>\n    </tr>\n    <tr>\n      <th>3556547</th>\n      <td>14154539</td>\n      <td>António Pais Antunes</td>\n      <td>1973-04-04</td>\n    </tr>\n    <tr>\n      <th>3556683</th>\n      <td>14154675</td>\n      <td>Christoph Hartmann 0003</td>\n      <td>1975-10-26</td>\n    </tr>\n    <tr>\n      <th>3556806</th>\n      <td>14154798</td>\n      <td>Weidong Gao 0001</td>\n      <td>1978-05-09</td>\n    </tr>\n    <tr>\n      <th>3556835</th>\n      <td>14154827</td>\n      <td>Ali Salmasnia</td>\n      <td>1983-07-04</td>\n    </tr>\n  </tbody>\n</table>\n<p>23507 rows × 3 columns</p>\n</div>"
     },
     "execution_count": 521,
     "metadata": {},
     "output_type": "execute_result"
    }
   ],
   "source": [
    "author_nodes_df"
   ],
   "metadata": {
    "collapsed": false,
    "ExecuteTime": {
     "end_time": "2024-04-10T13:40:12.225456Z",
     "start_time": "2024-04-10T13:40:12.178539Z"
    }
   },
   "id": "e11a08eaa5a9fa1e",
   "execution_count": 521
  },
  {
   "cell_type": "code",
   "outputs": [
    {
     "data": {
      "text/plain": "      person_id           person_name\n0     CH-000001       Gerhard Schwabe\n1     CH-000002        Oliver Deussen\n2     CH-000003        Anita de Waard\n3     CH-000004         Andrea Polini\n4     CH-000005         Bill Lin 0001\n...         ...                   ...\n4348  CH-004349  Carlos Delgado Kloos\n4349  CH-004350         Henri Gilbert\n4350  CH-004351         Cai Wingfield\n4351  CH-004352    Anthony Gar-On Yeh\n4352  CH-004353   Christos Douligeris\n\n[4353 rows x 2 columns]",
      "text/html": "<div>\n<style scoped>\n    .dataframe tbody tr th:only-of-type {\n        vertical-align: middle;\n    }\n\n    .dataframe tbody tr th {\n        vertical-align: top;\n    }\n\n    .dataframe thead th {\n        text-align: right;\n    }\n</style>\n<table border=\"1\" class=\"dataframe\">\n  <thead>\n    <tr style=\"text-align: right;\">\n      <th></th>\n      <th>person_id</th>\n      <th>person_name</th>\n    </tr>\n  </thead>\n  <tbody>\n    <tr>\n      <th>0</th>\n      <td>CH-000001</td>\n      <td>Gerhard Schwabe</td>\n    </tr>\n    <tr>\n      <th>1</th>\n      <td>CH-000002</td>\n      <td>Oliver Deussen</td>\n    </tr>\n    <tr>\n      <th>2</th>\n      <td>CH-000003</td>\n      <td>Anita de Waard</td>\n    </tr>\n    <tr>\n      <th>3</th>\n      <td>CH-000004</td>\n      <td>Andrea Polini</td>\n    </tr>\n    <tr>\n      <th>4</th>\n      <td>CH-000005</td>\n      <td>Bill Lin 0001</td>\n    </tr>\n    <tr>\n      <th>...</th>\n      <td>...</td>\n      <td>...</td>\n    </tr>\n    <tr>\n      <th>4348</th>\n      <td>CH-004349</td>\n      <td>Carlos Delgado Kloos</td>\n    </tr>\n    <tr>\n      <th>4349</th>\n      <td>CH-004350</td>\n      <td>Henri Gilbert</td>\n    </tr>\n    <tr>\n      <th>4350</th>\n      <td>CH-004351</td>\n      <td>Cai Wingfield</td>\n    </tr>\n    <tr>\n      <th>4351</th>\n      <td>CH-004352</td>\n      <td>Anthony Gar-On Yeh</td>\n    </tr>\n    <tr>\n      <th>4352</th>\n      <td>CH-004353</td>\n      <td>Christos Douligeris</td>\n    </tr>\n  </tbody>\n</table>\n<p>4353 rows × 2 columns</p>\n</div>"
     },
     "execution_count": 522,
     "metadata": {},
     "output_type": "execute_result"
    }
   ],
   "source": [
    "chairman_nodes_df"
   ],
   "metadata": {
    "collapsed": false,
    "ExecuteTime": {
     "end_time": "2024-04-10T13:40:12.240715Z",
     "start_time": "2024-04-10T13:40:12.183483Z"
    }
   },
   "id": "496c2173664eebe3",
   "execution_count": 522
  },
  {
   "cell_type": "code",
   "outputs": [
    {
     "data": {
      "text/plain": "      editor_id     editor_name\n0     ED_000001    Morgan Smith\n1     ED_000002   Leslie Taylor\n2     ED_000003    Riley Wilson\n3     ED_000004     Casey Jones\n4     ED_000005    Jordan Perez\n...         ...             ...\n1230  ED_001231   Alex Thompson\n1231  ED_001232      Dana Jones\n1232  ED_001233  Quinn Martinez\n1233  ED_001234     Alex Thomas\n1234  ED_001235    Leslie Jones\n\n[1235 rows x 2 columns]",
      "text/html": "<div>\n<style scoped>\n    .dataframe tbody tr th:only-of-type {\n        vertical-align: middle;\n    }\n\n    .dataframe tbody tr th {\n        vertical-align: top;\n    }\n\n    .dataframe thead th {\n        text-align: right;\n    }\n</style>\n<table border=\"1\" class=\"dataframe\">\n  <thead>\n    <tr style=\"text-align: right;\">\n      <th></th>\n      <th>editor_id</th>\n      <th>editor_name</th>\n    </tr>\n  </thead>\n  <tbody>\n    <tr>\n      <th>0</th>\n      <td>ED_000001</td>\n      <td>Morgan Smith</td>\n    </tr>\n    <tr>\n      <th>1</th>\n      <td>ED_000002</td>\n      <td>Leslie Taylor</td>\n    </tr>\n    <tr>\n      <th>2</th>\n      <td>ED_000003</td>\n      <td>Riley Wilson</td>\n    </tr>\n    <tr>\n      <th>3</th>\n      <td>ED_000004</td>\n      <td>Casey Jones</td>\n    </tr>\n    <tr>\n      <th>4</th>\n      <td>ED_000005</td>\n      <td>Jordan Perez</td>\n    </tr>\n    <tr>\n      <th>...</th>\n      <td>...</td>\n      <td>...</td>\n    </tr>\n    <tr>\n      <th>1230</th>\n      <td>ED_001231</td>\n      <td>Alex Thompson</td>\n    </tr>\n    <tr>\n      <th>1231</th>\n      <td>ED_001232</td>\n      <td>Dana Jones</td>\n    </tr>\n    <tr>\n      <th>1232</th>\n      <td>ED_001233</td>\n      <td>Quinn Martinez</td>\n    </tr>\n    <tr>\n      <th>1233</th>\n      <td>ED_001234</td>\n      <td>Alex Thomas</td>\n    </tr>\n    <tr>\n      <th>1234</th>\n      <td>ED_001235</td>\n      <td>Leslie Jones</td>\n    </tr>\n  </tbody>\n</table>\n<p>1235 rows × 2 columns</p>\n</div>"
     },
     "execution_count": 523,
     "metadata": {},
     "output_type": "execute_result"
    }
   ],
   "source": [
    "editor_nodes_df"
   ],
   "metadata": {
    "collapsed": false,
    "ExecuteTime": {
     "end_time": "2024-04-10T13:40:12.276932Z",
     "start_time": "2024-04-10T13:40:12.188071Z"
    }
   },
   "id": "d96bad6e2355392f",
   "execution_count": 523
  },
  {
   "cell_type": "markdown",
   "source": [
    "# Neo4j import folder path"
   ],
   "metadata": {
    "collapsed": false
   },
   "id": "b84ed8473e1be0b8"
  },
  {
   "cell_type": "code",
   "outputs": [],
   "source": [
    "neo4j_import_folder_path = '/Users/danilakokin/Library/Application Support/Neo4j Desktop/Application/relate-data/dbmss/dbms-d3231510-48ce-4369-b724-f487562fd7a8/import'"
   ],
   "metadata": {
    "collapsed": false,
    "ExecuteTime": {
     "end_time": "2024-04-10T13:40:12.299572Z",
     "start_time": "2024-04-10T13:40:12.190845Z"
    }
   },
   "id": "b26b28d2e0c7bf73",
   "execution_count": 524
  },
  {
   "cell_type": "markdown",
   "source": [
    "# Slice nodes #"
   ],
   "metadata": {
    "collapsed": false
   },
   "id": "c224e16f050283cb"
  },
  {
   "cell_type": "code",
   "outputs": [],
   "source": [
    "papers_from_journal_nodes_df = papers_from_journal_df[['paper_id', 'title', 'keywords', 'abstract']].drop_duplicates(['paper_id', 'title', 'abstract'])\n",
    "papers_from_proceeding_nodes_df = papers_from_proceeding_df[['paper_id', 'title', 'keywords', 'abstract']].drop_duplicates(['paper_id', 'title', 'abstract'])\n",
    "\n",
    "journal_nodes_df = journals_prep_df[['id', 'name']].drop_duplicates(['id', 'name'])\n",
    "proceeding_nodes_df = prep_proceedings_df[['proceeding_id', 'name']].drop_duplicates(['proceeding_id', 'name'])\n",
    "\n",
    "volume_nodes_df = papers_from_journal_df[['volume_id', 'year']].drop_duplicates(['volume_id'])\n",
    "edition_nodes_df = prep_proceedings_df[['edition_id', 'edition_city', 'edition_date']].drop_duplicates(['edition_id', 'edition_date'])"
   ],
   "metadata": {
    "collapsed": false,
    "ExecuteTime": {
     "end_time": "2024-04-10T13:40:12.309184Z",
     "start_time": "2024-04-10T13:40:12.198369Z"
    }
   },
   "id": "55940a28b4d4495a",
   "execution_count": 525
  },
  {
   "cell_type": "markdown",
   "source": [
    "# Save nodes"
   ],
   "metadata": {
    "collapsed": false
   },
   "id": "6e07199a393487c6"
  },
  {
   "cell_type": "code",
   "outputs": [],
   "source": [
    "author_nodes_df.to_csv(f'{neo4j_import_folder_path}/author_nodes.csv', index=False)\n",
    "editor_nodes_df.to_csv(f'{neo4j_import_folder_path}/editor_nodes.csv', index=False)\n",
    "chairman_nodes_df.to_csv(f'{neo4j_import_folder_path}/chairman_nodes.csv', index=False)"
   ],
   "metadata": {
    "collapsed": false,
    "ExecuteTime": {
     "end_time": "2024-04-10T13:40:12.531835Z",
     "start_time": "2024-04-10T13:40:12.214685Z"
    }
   },
   "id": "13c962199e801323",
   "execution_count": 526
  },
  {
   "cell_type": "code",
   "outputs": [],
   "source": [
    "papers_from_journal_nodes_df.to_csv(f'{neo4j_import_folder_path}/papers_from_journal_nodes.csv', index=False)\n",
    "papers_from_proceeding_nodes_df.to_csv(f'{neo4j_import_folder_path}/papers_from_proceeding_nodes.csv', index=False)"
   ],
   "metadata": {
    "collapsed": false,
    "ExecuteTime": {
     "end_time": "2024-04-10T13:40:12.563251Z",
     "start_time": "2024-04-10T13:40:12.254355Z"
    }
   },
   "id": "f80dd38624b63229",
   "execution_count": 527
  },
  {
   "cell_type": "code",
   "outputs": [],
   "source": [
    "journal_nodes_df.to_csv(f'{neo4j_import_folder_path}/journal_nodes.csv', index=False)\n",
    "proceeding_nodes_df.to_csv(f'{neo4j_import_folder_path}/proceeding_nodes.csv', index=False)"
   ],
   "metadata": {
    "collapsed": false,
    "ExecuteTime": {
     "end_time": "2024-04-10T13:40:12.564044Z",
     "start_time": "2024-04-10T13:40:12.310667Z"
    }
   },
   "id": "a0afb157e2b76776",
   "execution_count": 528
  },
  {
   "cell_type": "code",
   "outputs": [],
   "source": [
    "volume_nodes_df.to_csv(f'{neo4j_import_folder_path}/volume_nodes.csv', index=False)\n",
    "edition_nodes_df.to_csv(f'{neo4j_import_folder_path}/edition_nodes.csv', index=False)"
   ],
   "metadata": {
    "collapsed": false,
    "ExecuteTime": {
     "end_time": "2024-04-10T13:40:12.564728Z",
     "start_time": "2024-04-10T13:40:12.315512Z"
    }
   },
   "id": "1a25fac2c5262840",
   "execution_count": 529
  },
  {
   "cell_type": "markdown",
   "source": [
    "# Slice relations #"
   ],
   "metadata": {
    "collapsed": false
   },
   "id": "d2cfbb4bc437ca17"
  },
  {
   "cell_type": "code",
   "outputs": [],
   "source": [
    "paper_CITES_paper_journal_df = papers_from_journal_df[['paper_id', 'citation_id']].explode('citation_id').dropna()\n",
    "paper_CITES_paper_proceeding_df = papers_from_proceeding_df[['paper_id', 'citation_id']].explode('citation_id').dropna()\n",
    "\n",
    "paper_PUBLISHED_IN_WORKSHOP_edition_proceeding_df = prep_proceedings_df[prep_proceedings_df['proceeding_type'] == 'workshop'][['paper_id', 'edition_id']].explode('paper_id').drop_duplicates(['paper_id', 'edition_id'])\n",
    "paper_PUBLISHED_IN_CONFERENCE_edition_proceeding_df = prep_proceedings_df[prep_proceedings_df['proceeding_type'] == 'conference'][['paper_id', 'edition_id']].explode('paper_id').drop_duplicates(['paper_id', 'edition_id'])\n",
    "\n",
    "paper_PUBLISHED_IN_VOLUME_journal_df = papers_from_journal_df[['paper_id', 'volume_id']].drop_duplicates(['paper_id', 'volume_id'])\n",
    "\n",
    "author_IS_CORE_AUTHOR_paper_journal_df = papers_from_journal_df[['paper_id', 'core_author']]\n",
    "author_IS_CORE_AUTHOR_paper_proceeding_df = papers_from_proceeding_df[['paper_id', 'core_author']]\n",
    "\n",
    "author_IS_CO_AUTHOR_paper_journal_df = papers_from_journal_df[['paper_id', 'co_author']].explode('co_author').dropna()\n",
    "author_IS_CO_AUTHOR_paper_proceeding_df = papers_from_proceeding_df[['paper_id', 'co_author']].explode('co_author').dropna()\n",
    "\n",
    "author_REVIEWS_paper_journal_df = papers_from_journal_df[['paper_id', 'reviewer']].explode('reviewer')\n",
    "author_REVIEWS_paper_proceeding_df = papers_from_proceeding_df[['paper_id', 'reviewer']].explode('reviewer')\n",
    "\n",
    "# proceeding_CONTAINS_WORKSHOP_edition_df = prep_proceedings_df[prep_proceedings_df['proceeding_type'] == 'workshop'][['proceeding_id', 'edition_id']].drop_duplicates(['proceeding_id', 'edition_id'])\n",
    "proceeding_CONTAINS_CONFERENCE_edition_df = prep_proceedings_df[prep_proceedings_df['proceeding_type'] == 'conference'][['proceeding_id', 'edition_id']].drop_duplicates(['proceeding_id', 'edition_id'])\n",
    "journal_CONTAINS_VOLUME_volume_df = papers_from_journal_df[['journal_id', 'volume_id']].drop_duplicates(['journal_id', 'volume_id'])\n",
    "\n",
    "journal_HAS_EDITOR_person_df = journals_prep_df[['id', 'editor_id']].drop_duplicates(['id', 'editor_id'])\n",
    "proceeding_HAS_WORKSHOP_CHAIRMAN_person_df = prep_proceedings_df[prep_proceedings_df['proceeding_type'] == 'workshop'][['proceeding_id', 'chairman']].drop_duplicates(['proceeding_id', 'chairman'])\n",
    "proceeding_HAS_CONFERENCE_CHAIRMAN_person_df = prep_proceedings_df[prep_proceedings_df['proceeding_type'] == 'conference'][['proceeding_id', 'chairman']].drop_duplicates(['proceeding_id', 'chairman'])"
   ],
   "metadata": {
    "collapsed": false,
    "ExecuteTime": {
     "end_time": "2024-04-10T15:27:05.503172Z",
     "start_time": "2024-04-10T15:27:05.366454Z"
    }
   },
   "id": "9a4fdb3afce28f91",
   "execution_count": 535
  },
  {
   "cell_type": "code",
   "outputs": [
    {
     "data": {
      "text/plain": "           paper_id       edition_id\n2338   PPR-10436203  PR-000001-13392\n2338   PPR-10458199  PR-000001-13392\n2338   PPR-10455000  PR-000001-13392\n2338   PPR-10429779  PR-000001-13392\n2338   PPR-10455323  PR-000001-13392\n...             ...              ...\n10564  PPR-10461458  PR-000001-11776\n10564  PPR-10461860  PR-000001-11776\n10564  PPR-10462772  PR-000001-11776\n10564  PPR-10453845  PR-000001-11776\n10564  PPR-10462252  PR-000001-11776\n\n[9783 rows x 2 columns]",
      "text/html": "<div>\n<style scoped>\n    .dataframe tbody tr th:only-of-type {\n        vertical-align: middle;\n    }\n\n    .dataframe tbody tr th {\n        vertical-align: top;\n    }\n\n    .dataframe thead th {\n        text-align: right;\n    }\n</style>\n<table border=\"1\" class=\"dataframe\">\n  <thead>\n    <tr style=\"text-align: right;\">\n      <th></th>\n      <th>paper_id</th>\n      <th>edition_id</th>\n    </tr>\n  </thead>\n  <tbody>\n    <tr>\n      <th>2338</th>\n      <td>PPR-10436203</td>\n      <td>PR-000001-13392</td>\n    </tr>\n    <tr>\n      <th>2338</th>\n      <td>PPR-10458199</td>\n      <td>PR-000001-13392</td>\n    </tr>\n    <tr>\n      <th>2338</th>\n      <td>PPR-10455000</td>\n      <td>PR-000001-13392</td>\n    </tr>\n    <tr>\n      <th>2338</th>\n      <td>PPR-10429779</td>\n      <td>PR-000001-13392</td>\n    </tr>\n    <tr>\n      <th>2338</th>\n      <td>PPR-10455323</td>\n      <td>PR-000001-13392</td>\n    </tr>\n    <tr>\n      <th>...</th>\n      <td>...</td>\n      <td>...</td>\n    </tr>\n    <tr>\n      <th>10564</th>\n      <td>PPR-10461458</td>\n      <td>PR-000001-11776</td>\n    </tr>\n    <tr>\n      <th>10564</th>\n      <td>PPR-10461860</td>\n      <td>PR-000001-11776</td>\n    </tr>\n    <tr>\n      <th>10564</th>\n      <td>PPR-10462772</td>\n      <td>PR-000001-11776</td>\n    </tr>\n    <tr>\n      <th>10564</th>\n      <td>PPR-10453845</td>\n      <td>PR-000001-11776</td>\n    </tr>\n    <tr>\n      <th>10564</th>\n      <td>PPR-10462252</td>\n      <td>PR-000001-11776</td>\n    </tr>\n  </tbody>\n</table>\n<p>9783 rows × 2 columns</p>\n</div>"
     },
     "execution_count": 536,
     "metadata": {},
     "output_type": "execute_result"
    }
   ],
   "source": [
    "paper_PUBLISHED_IN_WORKSHOP_edition_proceeding_df"
   ],
   "metadata": {
    "collapsed": false,
    "ExecuteTime": {
     "end_time": "2024-04-10T15:27:07.150657Z",
     "start_time": "2024-04-10T15:27:07.147855Z"
    }
   },
   "id": "69c75e7234d6b210",
   "execution_count": 536
  },
  {
   "cell_type": "code",
   "outputs": [],
   "source": [
    "paper_PUBLISHED_IN_CONFERENCE_edition_proceeding_df.to_csv('aa.csv', index=False)"
   ],
   "metadata": {
    "collapsed": false,
    "ExecuteTime": {
     "end_time": "2024-04-10T15:27:09.402248Z",
     "start_time": "2024-04-10T15:27:09.389921Z"
    }
   },
   "id": "d45af343962cbd83",
   "execution_count": 537
  },
  {
   "cell_type": "code",
   "outputs": [],
   "source": [
    "paper_CITES_paper_journal_df.to_csv(f'{neo4j_import_folder_path}/paper_CITES_paper_journal.csv', index=False)\n",
    "paper_CITES_paper_proceeding_df.to_csv(f'{neo4j_import_folder_path}/paper_CITES_paper_proceeding.csv', index=False)\n",
    "paper_PUBLISHED_IN_WORKSHOP_edition_proceeding_df.to_csv(f'{neo4j_import_folder_path}/paper_PUBLISHED_IN_WORKSHOP_edition_proceeding.csv', index=False)\n",
    "paper_PUBLISHED_IN_CONFERENCE_edition_proceeding_df.to_csv(f'{neo4j_import_folder_path}/paper_PUBLISHED_IN_CONFERENCE_edition_proceeding.csv', index=False)\n",
    "paper_PUBLISHED_IN_VOLUME_journal_df.to_csv(f'{neo4j_import_folder_path}/paper_PUBLISHED_IN_VOLUME_journal.csv', index=False)\n",
    "author_IS_CORE_AUTHOR_paper_journal_df.to_csv(f'{neo4j_import_folder_path}/author_IS_CORE_AUTHOR_paper_journal.csv', index=False)\n",
    "author_IS_CORE_AUTHOR_paper_proceeding_df.to_csv(f'{neo4j_import_folder_path}/author_IS_CORE_AUTHOR_paper_proceeding.csv', index=False)\n",
    "author_IS_CO_AUTHOR_paper_journal_df.to_csv(f'{neo4j_import_folder_path}/author_IS_CO_AUTHOR_paper_journal.csv', index=False)\n",
    "author_IS_CO_AUTHOR_paper_proceeding_df.to_csv(f'{neo4j_import_folder_path}/author_IS_CO_AUTHOR_paper_proceeding.csv', index=False)\n",
    "author_REVIEWS_paper_journal_df.to_csv(f'{neo4j_import_folder_path}/author_REVIEWS_paper_journal.csv', index=False)\n",
    "author_REVIEWS_paper_proceeding_df.to_csv(f'{neo4j_import_folder_path}/author_REVIEWS_paper_proceeding.csv', index=False)\n",
    "proceeding_CONTAINS_WORKSHOP_edition_df.to_csv(f'{neo4j_import_folder_path}/proceeding_CONTAINS_WORKSHOP_edition.csv', index=False)\n",
    "proceeding_CONTAINS_CONFERENCE_edition_df.to_csv(f'{neo4j_import_folder_path}/proceeding_CONTAINS_CONFERENCE_edition.csv', index=False)\n",
    "journal_CONTAINS_VOLUME_volume_df.to_csv(f'{neo4j_import_folder_path}/journal_CONTAINS_EDITION_edition.csv', index=False)\n",
    "journal_HAS_EDITOR_person_df.to_csv(f'{neo4j_import_folder_path}/journal_HAS_EDITOR_person.csv', index=False)\n",
    "proceeding_HAS_WORKSHOP_CHAIRMAN_person_df.to_csv(f'{neo4j_import_folder_path}/proceeding_HAS_WORKSHOP_CHAIRMAN_person.csv', index=False)\n",
    "proceeding_HAS_CONFERENCE_CHAIRMAN_person_df.to_csv(f'{neo4j_import_folder_path}/proceeding_HAS_CONFERENCE_CHAIRMAN_person.csv', index=False)"
   ],
   "metadata": {
    "collapsed": false,
    "ExecuteTime": {
     "end_time": "2024-04-10T13:40:12.637079Z",
     "start_time": "2024-04-10T13:40:12.386377Z"
    }
   },
   "id": "9ca44984c48c1d60",
   "execution_count": 531
  },
  {
   "cell_type": "code",
   "outputs": [],
   "source": [],
   "metadata": {
    "collapsed": false,
    "ExecuteTime": {
     "end_time": "2024-04-10T13:40:12.652099Z",
     "start_time": "2024-04-10T13:40:12.493590Z"
    }
   },
   "id": "4a4d8a735df27e47",
   "execution_count": 531
  },
  {
   "cell_type": "code",
   "outputs": [],
   "source": [],
   "metadata": {
    "collapsed": false
   },
   "id": "59b33cd51172dfa2"
  }
 ],
 "metadata": {
  "kernelspec": {
   "display_name": "Python 3",
   "language": "python",
   "name": "python3"
  },
  "language_info": {
   "codemirror_mode": {
    "name": "ipython",
    "version": 2
   },
   "file_extension": ".py",
   "mimetype": "text/x-python",
   "name": "python",
   "nbconvert_exporter": "python",
   "pygments_lexer": "ipython2",
   "version": "2.7.6"
  }
 },
 "nbformat": 4,
 "nbformat_minor": 5
}
